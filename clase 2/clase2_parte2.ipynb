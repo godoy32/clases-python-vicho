{
 "metadata": {
  "language_info": {
   "codemirror_mode": {
    "name": "ipython",
    "version": 3
   },
   "file_extension": ".py",
   "mimetype": "text/x-python",
   "name": "python",
   "nbconvert_exporter": "python",
   "pygments_lexer": "ipython3",
   "version": "3.9.4"
  },
  "orig_nbformat": 2,
  "kernelspec": {
   "name": "python394jvsc74a57bd0cff77af2ea1c89379d86c16b453c62de53710c6cc8b3fa13ff6c18d678aa2dae",
   "display_name": "Python 3.9.4 64-bit"
  },
  "metadata": {
   "interpreter": {
    "hash": "cff77af2ea1c89379d86c16b453c62de53710c6cc8b3fa13ff6c18d678aa2dae"
   }
  }
 },
 "nbformat": 4,
 "nbformat_minor": 2,
 "cells": [
  {
   "source": [
    "## Primer proyecto\n",
    "Para crear tu primero proyecto vamos a crear una carpeta con el nombre \"funciones\"  \n",
    "Dentro de esa carpeta crea un archivo que se llame ajuste_direccion.py  \n",
    "En ese archvio pondremos la funcion del paso anterior."
   ],
   "cell_type": "markdown",
   "metadata": {}
  },
  {
   "cell_type": "code",
   "execution_count": 2,
   "metadata": {},
   "outputs": [],
   "source": [
    "#Podemos importar la funcion usando:\n",
    "#from nombre_carpeta.nombre_archivo import nombre_funcion\n",
    "#O tambien puedes importar todas las funciones haciendo import funciones.mi_primera_funcion\n",
    "import funciones.ajuste_direccion as ajuste_direccion"
   ]
  },
  {
   "cell_type": "code",
   "execution_count": 3,
   "metadata": {},
   "outputs": [
    {
     "output_type": "execute_result",
     "data": {
      "text/plain": [
       "([' Dr. Genaro Benavieses',\n",
       "  ' Cerezos',\n",
       "  ' La Cabaña',\n",
       "  ' Pedro Canisio',\n",
       "  ' Malmo',\n",
       "  ' Luis Valenzuela Aris',\n",
       "  ' Los Militares',\n",
       "  ' suarez mujica',\n",
       "  ' Alfredo Barros Errazuriz',\n",
       "  ' Augusto Leguía sur',\n",
       "  ' Suecia',\n",
       "  ' Martin Alonzo Pinzon',\n",
       "  ' Sebastian Elcano',\n",
       "  ' Sebastián Elcano',\n",
       "  ' echeñique'],\n",
       " [6174,\n",
       "  33,\n",
       "  98,\n",
       "  1103,\n",
       "  478,\n",
       "  3220,\n",
       "  5277,\n",
       "  411,\n",
       "  1900,\n",
       "  98,\n",
       "  2624,\n",
       "  7420,\n",
       "  1055,\n",
       "  1055,\n",
       "  5100])"
      ]
     },
     "metadata": {},
     "execution_count": 3
    }
   ],
   "source": [
    "direcciones = ['Dr. Genaro Benavieses 6174',\n",
    "'Cerezos 33',\n",
    "'La Cabaña 98',\n",
    "'Pedro Canisio 1103',\n",
    "'Malmo 478',\n",
    "'Luis Valenzuela Aris 3220',\n",
    "'Los Militares 5277',\n",
    "'suarez mujica 411',\n",
    "'Alfredo Barros Errazuriz 1900',\n",
    "'Augusto Leguía sur 98',\n",
    "'Suecia 2624',\n",
    "'Martin Alonzo Pinzon 7420',\n",
    "'Sebastian Elcano 1055',\n",
    "'Sebastián Elcano 1055',\n",
    "'echeñique 5100']\n",
    "ajuste_direccion.ajuste_direccion(direcciones)"
   ]
  },
  {
   "source": [
    "Utiliznado esta tecnica podrás realizar modificaciones en tu poryecto sabiendo exactamente que es lo que está sucediendo. \n",
    "Idealmente deberías siempre seguir una estructura, tu puedes definir un metodo que funcione para ti, pero dentro del proyecto debes ser consistente con la estructura.  \n",
    "Suguiero usar algo como esto:  \n",
    "  \n",
    "📁 Mi proyecto  \n",
    "|-> 📁 funciones  \n",
    "&nbsp;&nbsp;&nbsp;&nbsp; |-> 📄 funcion1.py  \n",
    "&nbsp;&nbsp;&nbsp;&nbsp; |-> 📄 funcion2.py  \n",
    "&nbsp;&nbsp;&nbsp;&nbsp; |-> 📄 funcion3.py  \n",
    "|-> 📁 data  \n",
    "&nbsp;&nbsp;&nbsp;&nbsp; |-> 💼 archivo1.csv  \n",
    "&nbsp;&nbsp;&nbsp;&nbsp; |-> 💼 archivo2.xlsx  \n",
    "&nbsp;&nbsp;&nbsp;&nbsp; |-> 💼 archivo3.json  \n",
    "|-> 📁 resultados  \n",
    "&nbsp;&nbsp;&nbsp;&nbsp; |-> 📁 2021-05-03  \n",
    "&nbsp;&nbsp;&nbsp;&nbsp;&nbsp;&nbsp;&nbsp;&nbsp; |-> 💼 001 Resultado.xlsx  \n",
    "|-> 📁 data  \n",
    "|-> 📄 mi_archivo_principal.py\n",
    "\n",
    "Así como nosotros hicimos nuestra funcion en un archivo hay personas que se dedican a crear _librerias_ para facilitarnos la vida.  \n",
    "Las prinicipales librerias son:  \n",
    "-pandas -> Manejo de datos  \n",
    "-numpy -> Operaciones matriciales y matematicas  \n",
    "-matplotlib -> Graficos  \n",
    "  \n",
    "Usemos nuestra primera libreria.  \n",
    "Para eso debemos instalarma primero  \n",
    "Apreta WINDOWS+R y escribe CMD  \n",
    "Se abrirá el terminal, para instalar debes escribir ```python -m pip install <nombre_libreria>``` y para instalar una version especifica debes usar ```python -m pip install <nombre_libreria>==numero_version```.  \n",
    "Instala la version 1.1.5 de pandas (```python -m pip install pandas==1.1.5```)\n"
   ],
   "cell_type": "markdown",
   "metadata": {}
  },
  {
   "cell_type": "code",
   "execution_count": 1,
   "metadata": {},
   "outputs": [],
   "source": [
    "#Para importar la libreria debes llamarla con import <nombre_libreria> as <apodo> (el apodo es opcional y puede tener cualquier valor)\n",
    "import pandas as pd"
   ]
  },
  {
   "source": [
    "Para leer un archivo:  \n",
    "-Excel ```pd.read_excel(\"nombre_archivo.xlsx\", engine = 'openpyxl', sheet_name = \"Nombre Hoja\")```  \n",
    "-CSV ```pd.read_csv(\"nombre_archivo.csv\")```"
   ],
   "cell_type": "markdown",
   "metadata": {}
  },
  {
   "cell_type": "code",
   "execution_count": 4,
   "metadata": {},
   "outputs": [],
   "source": [
    "data = pd.read_excel(\"datos/ventas.xlsx\", engine='openpyxl')"
   ]
  },
  {
   "cell_type": "code",
   "execution_count": 5,
   "metadata": {},
   "outputs": [
    {
     "output_type": "execute_result",
     "data": {
      "text/plain": [
       "          Fecha                Nombre           Comuna  \\\n",
       "0    2020-08-22         Daniela Arcos     Lo Barnechea   \n",
       "1    2020-08-22      Sylvia Sepulveda            Ñuñoa   \n",
       "2    2020-08-22          Paul Wijnant       Las condes   \n",
       "3    2020-08-22       Nani Mercandino       Las Condes   \n",
       "4    2020-08-22        Fabiola Zapata      Providencia   \n",
       "...         ...                   ...              ...   \n",
       "2382 2021-05-08            Carlos San       Las condes   \n",
       "2383 2021-05-08            Carlos San       Las condes   \n",
       "2384 2021-05-08            Carlos San       Las condes   \n",
       "2385 2021-05-08      Katherine Spuler            Ñuñoa   \n",
       "2386 2021-05-08  Camila Gudenschwager  Santiago Centro   \n",
       "\n",
       "                         Dirrecion Depto     Telefono Categoria  \\\n",
       "0                     Robles 12729  401B  56977913112       Sal   \n",
       "1                       Sucre 1940   32B  56985051456     Huevo   \n",
       "2           Alonso de cordova 5045  1307  56991951136     Huevo   \n",
       "3             constancio vigil 416   NaN  56997992017     Huevo   \n",
       "4     Plaza Pedro De Valdivia 1743    12  56985294221     Huevo   \n",
       "...                            ...   ...          ...       ...   \n",
       "2382              Rosa OHiggins 78   302  56987557978     Huevo   \n",
       "2383              Rosa OHiggins 78   302  56987557978    Quinoa   \n",
       "2384              Rosa OHiggins 78   302  56987557978  Almendra   \n",
       "2385          Calle Espronceda 440   902  56956324836     Huevo   \n",
       "2386                 Catedral 2407   NaN  56984001512     Huevo   \n",
       "\n",
       "                               Tipo  Cantidad Tipo\\nde venta  Total\\na pagar  \\\n",
       "0                        Sal (1 Kg)       1.0         Normal          4000.0   \n",
       "1         Tradicionales (1 bandeja)       1.0         Normal          6000.0   \n",
       "2     Tradicionales (Media bandeja)       1.0         Normal          4000.0   \n",
       "3         Tradicionales (1 bandeja)       1.0         Normal          6000.0   \n",
       "4         Tradicionales (1 bandeja)       2.0         Normal         12000.0   \n",
       "...                             ...       ...            ...             ...   \n",
       "2382      Tradicionales (1 bandeja)       2.0         Normal         12000.0   \n",
       "2383                         Quinoa       2.0         Normal          8000.0   \n",
       "2384                   Almendra 1kg       3.0         Normal         27000.0   \n",
       "2385      Tradicionales (1 bandeja)       1.0         Normal          6000.0   \n",
       "2386      Tradicionales (1 bandeja)       1.0         Normal          6000.0   \n",
       "\n",
       "     Método\\nde pago  Monto Pagado  saldo\\nPendiente  \n",
       "0      Transferencia        4000.0                 0  \n",
       "1      Transferencia        6000.0                 0  \n",
       "2      Transferencia        4000.0                 0  \n",
       "3      Transferencia        6000.0                 0  \n",
       "4      Transferencia       12000.0                 0  \n",
       "...              ...           ...               ...  \n",
       "2382     MercadoPago       12000.0                 0  \n",
       "2383     MercadoPago        8000.0                 0  \n",
       "2384     MercadoPago       27000.0                 0  \n",
       "2385             NaN           NaN              6000  \n",
       "2386             NaN           NaN              6000  \n",
       "\n",
       "[2387 rows x 14 columns]"
      ],
      "text/html": "<div>\n<style scoped>\n    .dataframe tbody tr th:only-of-type {\n        vertical-align: middle;\n    }\n\n    .dataframe tbody tr th {\n        vertical-align: top;\n    }\n\n    .dataframe thead th {\n        text-align: right;\n    }\n</style>\n<table border=\"1\" class=\"dataframe\">\n  <thead>\n    <tr style=\"text-align: right;\">\n      <th></th>\n      <th>Fecha</th>\n      <th>Nombre</th>\n      <th>Comuna</th>\n      <th>Dirrecion</th>\n      <th>Depto</th>\n      <th>Telefono</th>\n      <th>Categoria</th>\n      <th>Tipo</th>\n      <th>Cantidad</th>\n      <th>Tipo\\nde venta</th>\n      <th>Total\\na pagar</th>\n      <th>Método\\nde pago</th>\n      <th>Monto Pagado</th>\n      <th>saldo\\nPendiente</th>\n    </tr>\n  </thead>\n  <tbody>\n    <tr>\n      <th>0</th>\n      <td>2020-08-22</td>\n      <td>Daniela Arcos</td>\n      <td>Lo Barnechea</td>\n      <td>Robles 12729</td>\n      <td>401B</td>\n      <td>56977913112</td>\n      <td>Sal</td>\n      <td>Sal (1 Kg)</td>\n      <td>1.0</td>\n      <td>Normal</td>\n      <td>4000.0</td>\n      <td>Transferencia</td>\n      <td>4000.0</td>\n      <td>0</td>\n    </tr>\n    <tr>\n      <th>1</th>\n      <td>2020-08-22</td>\n      <td>Sylvia Sepulveda</td>\n      <td>Ñuñoa</td>\n      <td>Sucre 1940</td>\n      <td>32B</td>\n      <td>56985051456</td>\n      <td>Huevo</td>\n      <td>Tradicionales (1 bandeja)</td>\n      <td>1.0</td>\n      <td>Normal</td>\n      <td>6000.0</td>\n      <td>Transferencia</td>\n      <td>6000.0</td>\n      <td>0</td>\n    </tr>\n    <tr>\n      <th>2</th>\n      <td>2020-08-22</td>\n      <td>Paul Wijnant</td>\n      <td>Las condes</td>\n      <td>Alonso de cordova 5045</td>\n      <td>1307</td>\n      <td>56991951136</td>\n      <td>Huevo</td>\n      <td>Tradicionales (Media bandeja)</td>\n      <td>1.0</td>\n      <td>Normal</td>\n      <td>4000.0</td>\n      <td>Transferencia</td>\n      <td>4000.0</td>\n      <td>0</td>\n    </tr>\n    <tr>\n      <th>3</th>\n      <td>2020-08-22</td>\n      <td>Nani Mercandino</td>\n      <td>Las Condes</td>\n      <td>constancio vigil 416</td>\n      <td>NaN</td>\n      <td>56997992017</td>\n      <td>Huevo</td>\n      <td>Tradicionales (1 bandeja)</td>\n      <td>1.0</td>\n      <td>Normal</td>\n      <td>6000.0</td>\n      <td>Transferencia</td>\n      <td>6000.0</td>\n      <td>0</td>\n    </tr>\n    <tr>\n      <th>4</th>\n      <td>2020-08-22</td>\n      <td>Fabiola Zapata</td>\n      <td>Providencia</td>\n      <td>Plaza Pedro De Valdivia 1743</td>\n      <td>12</td>\n      <td>56985294221</td>\n      <td>Huevo</td>\n      <td>Tradicionales (1 bandeja)</td>\n      <td>2.0</td>\n      <td>Normal</td>\n      <td>12000.0</td>\n      <td>Transferencia</td>\n      <td>12000.0</td>\n      <td>0</td>\n    </tr>\n    <tr>\n      <th>...</th>\n      <td>...</td>\n      <td>...</td>\n      <td>...</td>\n      <td>...</td>\n      <td>...</td>\n      <td>...</td>\n      <td>...</td>\n      <td>...</td>\n      <td>...</td>\n      <td>...</td>\n      <td>...</td>\n      <td>...</td>\n      <td>...</td>\n      <td>...</td>\n    </tr>\n    <tr>\n      <th>2382</th>\n      <td>2021-05-08</td>\n      <td>Carlos San</td>\n      <td>Las condes</td>\n      <td>Rosa OHiggins 78</td>\n      <td>302</td>\n      <td>56987557978</td>\n      <td>Huevo</td>\n      <td>Tradicionales (1 bandeja)</td>\n      <td>2.0</td>\n      <td>Normal</td>\n      <td>12000.0</td>\n      <td>MercadoPago</td>\n      <td>12000.0</td>\n      <td>0</td>\n    </tr>\n    <tr>\n      <th>2383</th>\n      <td>2021-05-08</td>\n      <td>Carlos San</td>\n      <td>Las condes</td>\n      <td>Rosa OHiggins 78</td>\n      <td>302</td>\n      <td>56987557978</td>\n      <td>Quinoa</td>\n      <td>Quinoa</td>\n      <td>2.0</td>\n      <td>Normal</td>\n      <td>8000.0</td>\n      <td>MercadoPago</td>\n      <td>8000.0</td>\n      <td>0</td>\n    </tr>\n    <tr>\n      <th>2384</th>\n      <td>2021-05-08</td>\n      <td>Carlos San</td>\n      <td>Las condes</td>\n      <td>Rosa OHiggins 78</td>\n      <td>302</td>\n      <td>56987557978</td>\n      <td>Almendra</td>\n      <td>Almendra 1kg</td>\n      <td>3.0</td>\n      <td>Normal</td>\n      <td>27000.0</td>\n      <td>MercadoPago</td>\n      <td>27000.0</td>\n      <td>0</td>\n    </tr>\n    <tr>\n      <th>2385</th>\n      <td>2021-05-08</td>\n      <td>Katherine Spuler</td>\n      <td>Ñuñoa</td>\n      <td>Calle Espronceda 440</td>\n      <td>902</td>\n      <td>56956324836</td>\n      <td>Huevo</td>\n      <td>Tradicionales (1 bandeja)</td>\n      <td>1.0</td>\n      <td>Normal</td>\n      <td>6000.0</td>\n      <td>NaN</td>\n      <td>NaN</td>\n      <td>6000</td>\n    </tr>\n    <tr>\n      <th>2386</th>\n      <td>2021-05-08</td>\n      <td>Camila Gudenschwager</td>\n      <td>Santiago Centro</td>\n      <td>Catedral 2407</td>\n      <td>NaN</td>\n      <td>56984001512</td>\n      <td>Huevo</td>\n      <td>Tradicionales (1 bandeja)</td>\n      <td>1.0</td>\n      <td>Normal</td>\n      <td>6000.0</td>\n      <td>NaN</td>\n      <td>NaN</td>\n      <td>6000</td>\n    </tr>\n  </tbody>\n</table>\n<p>2387 rows × 14 columns</p>\n</div>"
     },
     "metadata": {},
     "execution_count": 5
    }
   ],
   "source": [
    "data"
   ]
  },
  {
   "cell_type": "code",
   "execution_count": 8,
   "metadata": {},
   "outputs": [],
   "source": [
    "data = pd.read_csv(\"datos/ventas.csv\", sep = \";\")"
   ]
  },
  {
   "cell_type": "code",
   "execution_count": 9,
   "metadata": {},
   "outputs": [
    {
     "output_type": "execute_result",
     "data": {
      "text/plain": [
       "           Fecha                Nombre           Comuna  \\\n",
       "0     22-08-2020         Daniela Arcos     Lo Barnechea   \n",
       "1     22-08-2020      Sylvia Sepulveda            Ñuñoa   \n",
       "2     22-08-2020          Paul Wijnant       Las condes   \n",
       "3     22-08-2020       Nani Mercandino       Las Condes   \n",
       "4     22-08-2020        Fabiola Zapata      Providencia   \n",
       "...          ...                   ...              ...   \n",
       "2382  08-05-2021            Carlos San       Las condes   \n",
       "2383  08-05-2021            Carlos San       Las condes   \n",
       "2384  08-05-2021            Carlos San       Las condes   \n",
       "2385  08-05-2021      Katherine Spuler            Ñuñoa   \n",
       "2386  08-05-2021  Camila Gudenschwager  Santiago Centro   \n",
       "\n",
       "                         Dirrecion Depto     Telefono Categoria  \\\n",
       "0                     Robles 12729  401B  56977913112       Sal   \n",
       "1                       Sucre 1940   32B  56985051456     Huevo   \n",
       "2           Alonso de cordova 5045  1307  56991951136     Huevo   \n",
       "3             constancio vigil 416   NaN  56997992017     Huevo   \n",
       "4     Plaza Pedro De Valdivia 1743    12  56985294221     Huevo   \n",
       "...                            ...   ...          ...       ...   \n",
       "2382              Rosa OHiggins 78   302  56987557978     Huevo   \n",
       "2383              Rosa OHiggins 78   302  56987557978    Quinoa   \n",
       "2384              Rosa OHiggins 78   302  56987557978  Almendra   \n",
       "2385          Calle Espronceda 440   902  56956324836     Huevo   \n",
       "2386                 Catedral 2407   NaN  56984001512     Huevo   \n",
       "\n",
       "                               Tipo  Cantidad Tipo\\nde venta Total\\na pagar  \\\n",
       "0                        Sal (1 Kg)       1.0         Normal         $4.000   \n",
       "1         Tradicionales (1 bandeja)       1.0         Normal         $6.000   \n",
       "2     Tradicionales (Media bandeja)       1.0         Normal         $4.000   \n",
       "3         Tradicionales (1 bandeja)       1.0         Normal         $6.000   \n",
       "4         Tradicionales (1 bandeja)       2.0         Normal        $12.000   \n",
       "...                             ...       ...            ...            ...   \n",
       "2382      Tradicionales (1 bandeja)       2.0         Normal        $12.000   \n",
       "2383                         Quinoa       2.0         Normal         $8.000   \n",
       "2384                   Almendra 1kg       3.0         Normal        $27.000   \n",
       "2385      Tradicionales (1 bandeja)       1.0         Normal         $6.000   \n",
       "2386      Tradicionales (1 bandeja)       1.0         Normal         $6.000   \n",
       "\n",
       "     Método\\nde pago Monto Pagado saldo\\nPendiente  \n",
       "0      Transferencia       $4.000               $0  \n",
       "1      Transferencia       $6.000               $0  \n",
       "2      Transferencia       $4.000               $0  \n",
       "3      Transferencia       $6.000               $0  \n",
       "4      Transferencia      $12.000               $0  \n",
       "...              ...          ...              ...  \n",
       "2382     MercadoPago      $12.000               $0  \n",
       "2383     MercadoPago       $8.000               $0  \n",
       "2384     MercadoPago      $27.000               $0  \n",
       "2385             NaN          NaN           $6.000  \n",
       "2386             NaN          NaN           $6.000  \n",
       "\n",
       "[2387 rows x 14 columns]"
      ],
      "text/html": "<div>\n<style scoped>\n    .dataframe tbody tr th:only-of-type {\n        vertical-align: middle;\n    }\n\n    .dataframe tbody tr th {\n        vertical-align: top;\n    }\n\n    .dataframe thead th {\n        text-align: right;\n    }\n</style>\n<table border=\"1\" class=\"dataframe\">\n  <thead>\n    <tr style=\"text-align: right;\">\n      <th></th>\n      <th>Fecha</th>\n      <th>Nombre</th>\n      <th>Comuna</th>\n      <th>Dirrecion</th>\n      <th>Depto</th>\n      <th>Telefono</th>\n      <th>Categoria</th>\n      <th>Tipo</th>\n      <th>Cantidad</th>\n      <th>Tipo\\nde venta</th>\n      <th>Total\\na pagar</th>\n      <th>Método\\nde pago</th>\n      <th>Monto Pagado</th>\n      <th>saldo\\nPendiente</th>\n    </tr>\n  </thead>\n  <tbody>\n    <tr>\n      <th>0</th>\n      <td>22-08-2020</td>\n      <td>Daniela Arcos</td>\n      <td>Lo Barnechea</td>\n      <td>Robles 12729</td>\n      <td>401B</td>\n      <td>56977913112</td>\n      <td>Sal</td>\n      <td>Sal (1 Kg)</td>\n      <td>1.0</td>\n      <td>Normal</td>\n      <td>$4.000</td>\n      <td>Transferencia</td>\n      <td>$4.000</td>\n      <td>$0</td>\n    </tr>\n    <tr>\n      <th>1</th>\n      <td>22-08-2020</td>\n      <td>Sylvia Sepulveda</td>\n      <td>Ñuñoa</td>\n      <td>Sucre 1940</td>\n      <td>32B</td>\n      <td>56985051456</td>\n      <td>Huevo</td>\n      <td>Tradicionales (1 bandeja)</td>\n      <td>1.0</td>\n      <td>Normal</td>\n      <td>$6.000</td>\n      <td>Transferencia</td>\n      <td>$6.000</td>\n      <td>$0</td>\n    </tr>\n    <tr>\n      <th>2</th>\n      <td>22-08-2020</td>\n      <td>Paul Wijnant</td>\n      <td>Las condes</td>\n      <td>Alonso de cordova 5045</td>\n      <td>1307</td>\n      <td>56991951136</td>\n      <td>Huevo</td>\n      <td>Tradicionales (Media bandeja)</td>\n      <td>1.0</td>\n      <td>Normal</td>\n      <td>$4.000</td>\n      <td>Transferencia</td>\n      <td>$4.000</td>\n      <td>$0</td>\n    </tr>\n    <tr>\n      <th>3</th>\n      <td>22-08-2020</td>\n      <td>Nani Mercandino</td>\n      <td>Las Condes</td>\n      <td>constancio vigil 416</td>\n      <td>NaN</td>\n      <td>56997992017</td>\n      <td>Huevo</td>\n      <td>Tradicionales (1 bandeja)</td>\n      <td>1.0</td>\n      <td>Normal</td>\n      <td>$6.000</td>\n      <td>Transferencia</td>\n      <td>$6.000</td>\n      <td>$0</td>\n    </tr>\n    <tr>\n      <th>4</th>\n      <td>22-08-2020</td>\n      <td>Fabiola Zapata</td>\n      <td>Providencia</td>\n      <td>Plaza Pedro De Valdivia 1743</td>\n      <td>12</td>\n      <td>56985294221</td>\n      <td>Huevo</td>\n      <td>Tradicionales (1 bandeja)</td>\n      <td>2.0</td>\n      <td>Normal</td>\n      <td>$12.000</td>\n      <td>Transferencia</td>\n      <td>$12.000</td>\n      <td>$0</td>\n    </tr>\n    <tr>\n      <th>...</th>\n      <td>...</td>\n      <td>...</td>\n      <td>...</td>\n      <td>...</td>\n      <td>...</td>\n      <td>...</td>\n      <td>...</td>\n      <td>...</td>\n      <td>...</td>\n      <td>...</td>\n      <td>...</td>\n      <td>...</td>\n      <td>...</td>\n      <td>...</td>\n    </tr>\n    <tr>\n      <th>2382</th>\n      <td>08-05-2021</td>\n      <td>Carlos San</td>\n      <td>Las condes</td>\n      <td>Rosa OHiggins 78</td>\n      <td>302</td>\n      <td>56987557978</td>\n      <td>Huevo</td>\n      <td>Tradicionales (1 bandeja)</td>\n      <td>2.0</td>\n      <td>Normal</td>\n      <td>$12.000</td>\n      <td>MercadoPago</td>\n      <td>$12.000</td>\n      <td>$0</td>\n    </tr>\n    <tr>\n      <th>2383</th>\n      <td>08-05-2021</td>\n      <td>Carlos San</td>\n      <td>Las condes</td>\n      <td>Rosa OHiggins 78</td>\n      <td>302</td>\n      <td>56987557978</td>\n      <td>Quinoa</td>\n      <td>Quinoa</td>\n      <td>2.0</td>\n      <td>Normal</td>\n      <td>$8.000</td>\n      <td>MercadoPago</td>\n      <td>$8.000</td>\n      <td>$0</td>\n    </tr>\n    <tr>\n      <th>2384</th>\n      <td>08-05-2021</td>\n      <td>Carlos San</td>\n      <td>Las condes</td>\n      <td>Rosa OHiggins 78</td>\n      <td>302</td>\n      <td>56987557978</td>\n      <td>Almendra</td>\n      <td>Almendra 1kg</td>\n      <td>3.0</td>\n      <td>Normal</td>\n      <td>$27.000</td>\n      <td>MercadoPago</td>\n      <td>$27.000</td>\n      <td>$0</td>\n    </tr>\n    <tr>\n      <th>2385</th>\n      <td>08-05-2021</td>\n      <td>Katherine Spuler</td>\n      <td>Ñuñoa</td>\n      <td>Calle Espronceda 440</td>\n      <td>902</td>\n      <td>56956324836</td>\n      <td>Huevo</td>\n      <td>Tradicionales (1 bandeja)</td>\n      <td>1.0</td>\n      <td>Normal</td>\n      <td>$6.000</td>\n      <td>NaN</td>\n      <td>NaN</td>\n      <td>$6.000</td>\n    </tr>\n    <tr>\n      <th>2386</th>\n      <td>08-05-2021</td>\n      <td>Camila Gudenschwager</td>\n      <td>Santiago Centro</td>\n      <td>Catedral 2407</td>\n      <td>NaN</td>\n      <td>56984001512</td>\n      <td>Huevo</td>\n      <td>Tradicionales (1 bandeja)</td>\n      <td>1.0</td>\n      <td>Normal</td>\n      <td>$6.000</td>\n      <td>NaN</td>\n      <td>NaN</td>\n      <td>$6.000</td>\n    </tr>\n  </tbody>\n</table>\n<p>2387 rows × 14 columns</p>\n</div>"
     },
     "metadata": {},
     "execution_count": 9
    }
   ],
   "source": [
    "data"
   ]
  },
  {
   "cell_type": "code",
   "execution_count": 18,
   "metadata": {},
   "outputs": [
    {
     "output_type": "stream",
     "name": "stdout",
     "text": [
      "Leer el Excel toma 0.43446 segundos\nLeer el CSV toma 0.01003 segundos\nEl csv es 43.33 veces mas rapido que el Excel\n"
     ]
    }
   ],
   "source": [
    "import time\n",
    "start_time = time.time()\n",
    "pd.read_excel(\"datos/ventas.xlsx\", engine='openpyxl')\n",
    "lectura_excel = time.time() - start_time\n",
    "print(f\"Leer el Excel toma {round(lectura_excel,5)} segundos\")\n",
    "start_time = time.time()\n",
    "pd.read_csv(\"datos/ventas.csv\", sep = \";\")\n",
    "lectura_csv = time.time() - start_time\n",
    "print(f\"Leer el CSV toma {round(lectura_csv,5)} segundos\")\n",
    "print(f\"El csv es {round(lectura_excel/lectura_csv,2)} veces mas rapido que el Excel\")\n",
    "\n"
   ]
  },
  {
   "source": [
    "Leer archivos Excel puede ser muy lento, sobretodo si manejas grandes cantidades de datos.  "
   ],
   "cell_type": "markdown",
   "metadata": {}
  },
  {
   "source": [
    "### Seleccionar columnas\n",
    "```data[[\"nombre_columna_1\",\"nombre_columna_2\",\"nombre_columna_3\"]]```"
   ],
   "cell_type": "markdown",
   "metadata": {}
  },
  {
   "cell_type": "code",
   "execution_count": 20,
   "metadata": {},
   "outputs": [
    {
     "output_type": "execute_result",
     "data": {
      "text/plain": [
       "           Fecha                Nombre           Comuna\n",
       "0     22-08-2020         Daniela Arcos     Lo Barnechea\n",
       "1     22-08-2020      Sylvia Sepulveda            Ñuñoa\n",
       "2     22-08-2020          Paul Wijnant       Las condes\n",
       "3     22-08-2020       Nani Mercandino       Las Condes\n",
       "4     22-08-2020        Fabiola Zapata      Providencia\n",
       "...          ...                   ...              ...\n",
       "2382  08-05-2021            Carlos San       Las condes\n",
       "2383  08-05-2021            Carlos San       Las condes\n",
       "2384  08-05-2021            Carlos San       Las condes\n",
       "2385  08-05-2021      Katherine Spuler            Ñuñoa\n",
       "2386  08-05-2021  Camila Gudenschwager  Santiago Centro\n",
       "\n",
       "[2387 rows x 3 columns]"
      ],
      "text/html": "<div>\n<style scoped>\n    .dataframe tbody tr th:only-of-type {\n        vertical-align: middle;\n    }\n\n    .dataframe tbody tr th {\n        vertical-align: top;\n    }\n\n    .dataframe thead th {\n        text-align: right;\n    }\n</style>\n<table border=\"1\" class=\"dataframe\">\n  <thead>\n    <tr style=\"text-align: right;\">\n      <th></th>\n      <th>Fecha</th>\n      <th>Nombre</th>\n      <th>Comuna</th>\n    </tr>\n  </thead>\n  <tbody>\n    <tr>\n      <th>0</th>\n      <td>22-08-2020</td>\n      <td>Daniela Arcos</td>\n      <td>Lo Barnechea</td>\n    </tr>\n    <tr>\n      <th>1</th>\n      <td>22-08-2020</td>\n      <td>Sylvia Sepulveda</td>\n      <td>Ñuñoa</td>\n    </tr>\n    <tr>\n      <th>2</th>\n      <td>22-08-2020</td>\n      <td>Paul Wijnant</td>\n      <td>Las condes</td>\n    </tr>\n    <tr>\n      <th>3</th>\n      <td>22-08-2020</td>\n      <td>Nani Mercandino</td>\n      <td>Las Condes</td>\n    </tr>\n    <tr>\n      <th>4</th>\n      <td>22-08-2020</td>\n      <td>Fabiola Zapata</td>\n      <td>Providencia</td>\n    </tr>\n    <tr>\n      <th>...</th>\n      <td>...</td>\n      <td>...</td>\n      <td>...</td>\n    </tr>\n    <tr>\n      <th>2382</th>\n      <td>08-05-2021</td>\n      <td>Carlos San</td>\n      <td>Las condes</td>\n    </tr>\n    <tr>\n      <th>2383</th>\n      <td>08-05-2021</td>\n      <td>Carlos San</td>\n      <td>Las condes</td>\n    </tr>\n    <tr>\n      <th>2384</th>\n      <td>08-05-2021</td>\n      <td>Carlos San</td>\n      <td>Las condes</td>\n    </tr>\n    <tr>\n      <th>2385</th>\n      <td>08-05-2021</td>\n      <td>Katherine Spuler</td>\n      <td>Ñuñoa</td>\n    </tr>\n    <tr>\n      <th>2386</th>\n      <td>08-05-2021</td>\n      <td>Camila Gudenschwager</td>\n      <td>Santiago Centro</td>\n    </tr>\n  </tbody>\n</table>\n<p>2387 rows × 3 columns</p>\n</div>"
     },
     "metadata": {},
     "execution_count": 20
    }
   ],
   "source": [
    "data[[\"Fecha\",\"Nombre\",\"Comuna\"]]"
   ]
  },
  {
   "source": [
    "### Operaciones de grupos (o columnas)\n",
    "- Suma ```data['nombre_columna'].sum()```\n",
    "- Promedio ```data['nombre_columna'].mean()```\n",
    "- Desviacion estandanr: ```data['nombre_columna'].std()```\n"
   ],
   "cell_type": "markdown",
   "metadata": {}
  },
  {
   "cell_type": "code",
   "execution_count": 24,
   "metadata": {},
   "outputs": [
    {
     "output_type": "execute_result",
     "data": {
      "text/plain": [
       "2999.0"
      ]
     },
     "metadata": {},
     "execution_count": 24
    }
   ],
   "source": [
    "data['Cantidad'].sum()"
   ]
  },
  {
   "cell_type": "code",
   "execution_count": 26,
   "metadata": {},
   "outputs": [
    {
     "output_type": "execute_result",
     "data": {
      "text/plain": [
       "1.2569153394803017"
      ]
     },
     "metadata": {},
     "execution_count": 26
    }
   ],
   "source": [
    "data['Cantidad'].mean()"
   ]
  },
  {
   "cell_type": "code",
   "execution_count": 27,
   "metadata": {},
   "outputs": [
    {
     "output_type": "execute_result",
     "data": {
      "text/plain": [
       "0.9642478731963909"
      ]
     },
     "metadata": {},
     "execution_count": 27
    }
   ],
   "source": [
    "data['Cantidad'].std()"
   ]
  },
  {
   "source": [
    "## Proxima clase\n",
    "- Analisis de las ventas\n",
    "- Graficos\n",
    "- Conociendo al cliente"
   ],
   "cell_type": "markdown",
   "metadata": {}
  }
 ]
}