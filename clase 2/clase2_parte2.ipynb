{
 "metadata": {
  "language_info": {
   "codemirror_mode": {
    "name": "ipython",
    "version": 3
   },
   "file_extension": ".py",
   "mimetype": "text/x-python",
   "name": "python",
   "nbconvert_exporter": "python",
   "pygments_lexer": "ipython3",
   "version": "3.7.9"
  },
  "orig_nbformat": 2,
  "kernelspec": {
   "name": "python379jvsc74a57bd097dbde16e1d93668ee3a476f578fafae4c782d094d74ac31ce755e245d70cdbe",
   "display_name": "Python 3.7.9 64-bit"
  }
 },
 "nbformat": 4,
 "nbformat_minor": 2,
 "cells": [
  {
   "source": [
    "## Primer proyecto\n",
    "Para crear tu primero proyecto vamos a crear una carpeta con el nombre \"funciones\"  \n",
    "Dentro de esa carpeta crea un archivo que se llame ajuste_direccion.py  \n",
    "En ese archvio pondremos la funcion del paso anterior."
   ],
   "cell_type": "markdown",
   "metadata": {}
  },
  {
   "cell_type": "code",
   "execution_count": 5,
   "metadata": {},
   "outputs": [],
   "source": [
    "#Podemos importar la funcion usando:\n",
    "#from nombre_carpeta.nombre_archivo import nombre_funcion\n",
    "#O tambien puedes importar todas las funciones haciendo import funciones.mi_primera_funcion\n",
    "import funciones.ajuste_direccion as ajuste_direccion"
   ]
  },
  {
   "cell_type": "code",
   "execution_count": 7,
   "metadata": {},
   "outputs": [
    {
     "output_type": "execute_result",
     "data": {
      "text/plain": [
       "([' Dr. Genaro Benavieses',\n",
       "  ' Cerezos',\n",
       "  ' La Cabaña',\n",
       "  ' Pedro Canisio',\n",
       "  ' Malmo',\n",
       "  ' Luis Valenzuela Aris',\n",
       "  ' Los Militares',\n",
       "  ' suarez mujica',\n",
       "  ' Alfredo Barros Errazuriz',\n",
       "  ' Augusto Leguía sur',\n",
       "  ' Suecia',\n",
       "  ' Martin Alonzo Pinzon',\n",
       "  ' Sebastian Elcano',\n",
       "  ' Sebastián Elcano',\n",
       "  ' echeñique'],\n",
       " [6174,\n",
       "  33,\n",
       "  98,\n",
       "  1103,\n",
       "  478,\n",
       "  3220,\n",
       "  5277,\n",
       "  411,\n",
       "  1900,\n",
       "  98,\n",
       "  2624,\n",
       "  7420,\n",
       "  1055,\n",
       "  1055,\n",
       "  5100])"
      ]
     },
     "metadata": {},
     "execution_count": 7
    }
   ],
   "source": [
    "direcciones = ['Dr. Genaro Benavieses 6174',\n",
    "'Cerezos 33',\n",
    "'La Cabaña 98',\n",
    "'Pedro Canisio 1103',\n",
    "'Malmo 478',\n",
    "'Luis Valenzuela Aris 3220',\n",
    "'Los Militares 5277',\n",
    "'suarez mujica 411',\n",
    "'Alfredo Barros Errazuriz 1900',\n",
    "'Augusto Leguía sur 98',\n",
    "'Suecia 2624',\n",
    "'Martin Alonzo Pinzon 7420',\n",
    "'Sebastian Elcano 1055',\n",
    "'Sebastián Elcano 1055',\n",
    "'echeñique 5100']\n",
    "ajuste_direccion.ajuste_direccion(direcciones)"
   ]
  },
  {
   "source": [
    "Utiliznado esta tecnica podrás realizar modificaciones en tu poryecto sabiendo exactamente que es lo que está sucediendo. \n",
    "Idealmente deberías siempre seguir una estructura, tu puedes definir un metodo que funcione para ti, pero dentro del proyecto debes ser consistente con la estructura.  \n",
    "Suguiero usar algo como esto:  \n",
    "  \n",
    "📁 Mi proyecto  \n",
    "|-> 📁 funciones  \n",
    "&nbsp;&nbsp;&nbsp;&nbsp; |-> 📄 funcion1.py  \n",
    "&nbsp;&nbsp;&nbsp;&nbsp; |-> 📄 funcion2.py  \n",
    "&nbsp;&nbsp;&nbsp;&nbsp; |-> 📄 funcion3.py  \n",
    "|-> 📁 data  \n",
    "&nbsp;&nbsp;&nbsp;&nbsp; |-> 💼 archivo1.csv  \n",
    "&nbsp;&nbsp;&nbsp;&nbsp; |-> 💼 archivo2.xlsx  \n",
    "&nbsp;&nbsp;&nbsp;&nbsp; |-> 💼 archivo3.json  \n",
    "|-> 📁 resultados  \n",
    "&nbsp;&nbsp;&nbsp;&nbsp; |-> 📁 2021-05-03  \n",
    "&nbsp;&nbsp;&nbsp;&nbsp;&nbsp;&nbsp;&nbsp;&nbsp; |-> 💼 001 Resultado.xlsx  \n",
    "|-> 📁 data  \n",
    "|-> 📄 mi_archivo_principal.py\n",
    "\n",
    "Así como nosotros hicimos nuestra funcion en un archivo hay personas que se dedican a crear _librerias_ para facilitarnos la vida.  \n",
    "Las prinicipales librerias son:  \n",
    "-pandas -> Manejo de datos  \n",
    "-numpy -> Operaciones matriciales y matematicas  \n",
    "-matplotlib -> Graficos  \n",
    "  \n",
    "Usemos nuestra primera libreria.  \n",
    "Para eso debemos instalarma primero  \n",
    "Apreta WINDOWS+R y escribe CMD  \n",
    "Se abrirá el terminal, para instalar debes escribir ```python -m pip install <nombre_libreria>``` y para instalar una version especifica debes usar ```python -m pip install <nombre_libreria>==numero_version```.  \n",
    "Instala la version 1.1.5 de pandas (```python -m pip install pandas==1.1.5```)\n"
   ],
   "cell_type": "markdown",
   "metadata": {}
  },
  {
   "cell_type": "code",
   "execution_count": 11,
   "metadata": {},
   "outputs": [],
   "source": [
    "#Para importar la libreria debes llamarla con import <nombre_libreria> as <apodo> (el apodo es opcional y puede tener cualquier valor)\n",
    "import pandas as pd"
   ]
  },
  {
   "cell_type": "code",
   "execution_count": null,
   "metadata": {},
   "outputs": [],
   "source": []
  }
 ]
}