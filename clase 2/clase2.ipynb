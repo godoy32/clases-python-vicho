{
 "metadata": {
  "language_info": {
   "codemirror_mode": {
    "name": "ipython",
    "version": 3
   },
   "file_extension": ".py",
   "mimetype": "text/x-python",
   "name": "python",
   "nbconvert_exporter": "python",
   "pygments_lexer": "ipython3",
   "version": "3.7.9"
  },
  "orig_nbformat": 2,
  "kernelspec": {
   "name": "python379jvsc74a57bd097dbde16e1d93668ee3a476f578fafae4c782d094d74ac31ce755e245d70cdbe",
   "display_name": "Python 3.7.9 64-bit"
  },
  "metadata": {
   "interpreter": {
    "hash": "cff77af2ea1c89379d86c16b453c62de53710c6cc8b3fa13ff6c18d678aa2dae"
   }
  }
 },
 "nbformat": 4,
 "nbformat_minor": 2,
 "cells": [
  {
   "source": [
    "# Clase 2\n"
   ],
   "cell_type": "markdown",
   "metadata": {}
  },
  {
   "source": [
    "- Funciones parte 2\n",
    "- Librerias\n",
    "- Pandas"
   ],
   "cell_type": "markdown",
   "metadata": {}
  },
  {
   "cell_type": "code",
   "execution_count": 8,
   "metadata": {},
   "outputs": [],
   "source": [
    "def suma(lista: list):\n",
    "    if type(lista) == list:\n",
    "        suma = sum(lista)\n",
    "        return suma\n",
    "    else:\n",
    "        print('ERROR: Solo se acptan listas.')"
   ]
  },
  {
   "cell_type": "code",
   "execution_count": 2,
   "metadata": {},
   "outputs": [
    {
     "output_type": "execute_result",
     "data": {
      "text/plain": [
       "6"
      ]
     },
     "metadata": {},
     "execution_count": 2
    }
   ],
   "source": [
    "suma([3, 2, 1,])"
   ]
  },
  {
   "cell_type": "code",
   "execution_count": 3,
   "metadata": {},
   "outputs": [
    {
     "output_type": "stream",
     "name": "stdout",
     "text": [
      "ERROR: Solo se acptan listas.\n"
     ]
    }
   ],
   "source": [
    "suma('suma_algo')"
   ]
  },
  {
   "cell_type": "code",
   "execution_count": 4,
   "metadata": {},
   "outputs": [],
   "source": [
    "def suma(lista: list):\n",
    "    if type(lista) != list: raise Exception('ERROR: Solo se acptan listas.')\n",
    "    suma = sum(lista)\n",
    "    return suma    "
   ]
  },
  {
   "cell_type": "code",
   "execution_count": 5,
   "metadata": {},
   "outputs": [
    {
     "output_type": "error",
     "ename": "Exception",
     "evalue": "ERROR: Solo se acptan listas.",
     "traceback": [
      "\u001b[1;31m---------------------------------------------------------------------------\u001b[0m",
      "\u001b[1;31mException\u001b[0m                                 Traceback (most recent call last)",
      "\u001b[1;32m<ipython-input-5-7af37a3be2e7>\u001b[0m in \u001b[0;36m<module>\u001b[1;34m\u001b[0m\n\u001b[1;32m----> 1\u001b[1;33m \u001b[0msuma\u001b[0m\u001b[1;33m(\u001b[0m\u001b[1;34m'suma_algo'\u001b[0m\u001b[1;33m)\u001b[0m\u001b[1;33m\u001b[0m\u001b[1;33m\u001b[0m\u001b[0m\n\u001b[0m",
      "\u001b[1;32m<ipython-input-4-63a8650cd9d1>\u001b[0m in \u001b[0;36msuma\u001b[1;34m(lista)\u001b[0m\n\u001b[0;32m      4\u001b[0m         \u001b[1;32mreturn\u001b[0m \u001b[0msuma\u001b[0m\u001b[1;33m\u001b[0m\u001b[1;33m\u001b[0m\u001b[0m\n\u001b[0;32m      5\u001b[0m     \u001b[1;32melse\u001b[0m\u001b[1;33m:\u001b[0m\u001b[1;33m\u001b[0m\u001b[1;33m\u001b[0m\u001b[0m\n\u001b[1;32m----> 6\u001b[1;33m         \u001b[1;32mraise\u001b[0m \u001b[0mException\u001b[0m\u001b[1;33m(\u001b[0m\u001b[1;34m'ERROR: Solo se acptan listas.'\u001b[0m\u001b[1;33m)\u001b[0m\u001b[1;33m\u001b[0m\u001b[1;33m\u001b[0m\u001b[0m\n\u001b[0m",
      "\u001b[1;31mException\u001b[0m: ERROR: Solo se acptan listas."
     ]
    }
   ],
   "source": [
    "suma('suma_algo')"
   ]
  },
  {
   "source": [
    "### Ejercicio 1:\n",
    "```\n",
    "['Dr. Genaro Benavieses 6174, La Reina',\n",
    "'Cerezos 33, Ñuñoa',\n",
    "'La Cabaña 98, Las Condes',\n",
    "'Pedro Canisio 1103, Vitacura',\n",
    "'Malmo 478, Las Condes',\n",
    "'Luis Valenzuela Aris 3220, Macul',\n",
    "'Los Militares 5277, Las Condes',\n",
    "'suarez mujica 411, Ñuñoa',\n",
    "'Alfredo Barros Errazuriz 1900, Providencia',\n",
    "'Augusto Leguía sur 98, las condes',\n",
    "'Suecia 2624, Providencia',\n",
    "'Martin Alonzo Pinzon 7420, Las Condes',\n",
    "'Sebastian Elcano 1055, Las Condes',\n",
    "'Sebastián Elcano 1055, Las Condes',\n",
    "'echeñique 5100, Ñuñoa',\n",
    "'Vista Hermosa 6860, la reina',\n",
    "'San Francisco De Asís 1800, Las Condes',\n",
    "'San Carlos De Apoquindo 650, las condes']\n",
    "```\n",
    "Definir una funcion que separe la direccion con la comuna.\n",
    "\n",
    "Dificultad: ★★☆☆☆\n",
    "\n",
    "Tip: \n",
    "- Pueden usar la funcion ``` split() ``` para separar los textos  \n",
    "Ej: \n",
    "```\n",
    "direccion = 'Soy una direccion 123'\n",
    "direccion.split(' ')\n",
    ">> ['Soy', 'una', 'direccion', '123']\n",
    "\n",
    "direccion = 'Hernando de magallanes 1505, Las Condes'\n",
    "direccion_separada = direccion.split(',')\n",
    "direccion_separada[0]\n",
    ">> 'Hernando de magallanes 1505'\n",
    "direccion_separada[1]\n",
    ">> 'Las Condes'\n",
    "\n",
    "```\n"
   ],
   "cell_type": "markdown",
   "metadata": {}
  },
  {
   "cell_type": "code",
   "execution_count": null,
   "metadata": {},
   "outputs": [],
   "source": [
    "direcciones = ['Dr. Genaro Benavieses 6174, La Reina',\n",
    "'Cerezos 33, Ñuñoa',\n",
    "'La Cabaña 98, Las Condes',\n",
    "'Pedro Canisio 1103, Vitacura',\n",
    "'Malmo 478, Las Condes',\n",
    "'Luis Valenzuela Aris 3220, Macul',\n",
    "'Los Militares 5277, Las Condes',\n",
    "'suarez mujica 411, Ñuñoa',\n",
    "'Alfredo Barros Errazuriz 1900, Providencia',\n",
    "'Augusto Leguía sur 98, las condes',\n",
    "'Suecia 2624, Providencia',\n",
    "'Martin Alonzo Pinzon 7420, Las Condes',\n",
    "'Sebastian Elcano 1055, Las Condes',\n",
    "'Sebastián Elcano 1055, Las Condes',\n",
    "'echeñique 5100, Ñuñoa',\n",
    "'Vista Hermosa 6860, la reina',\n",
    "'San Francisco De Asís 1800, Las Condes',\n",
    "'San Carlos De Apoquindo 650, las condes']"
   ]
  },
  {
   "source": [
    "### Pseudo codigo\n",
    "```\n",
    "def separar_columnas(direcciones):\n",
    "    direccion = Lista vacia\n",
    "    comuna = Lista vacia\n",
    "    Para cada elemento de la lista:\n",
    "        Separar el elemento detectando la coma\n",
    "        Almacenar la mitad de la izquirda en direccion\n",
    "        Almacenar la mitad de la derecha en comuna\n",
    "    retornar la direccion y la comuna\n",
    "```"
   ],
   "cell_type": "markdown",
   "metadata": {}
  },
  {
   "source": [
    "### Ejercicio 2:\n",
    "Supongamos tenemos una lista con la dirección de nuestros clientes.\n",
    "La lista es la siguiente:\n",
    "```\n",
    "direcciones = ['Dr. Genaro Benavieses 6174',\n",
    "'Cerezos 33',\n",
    "'La Cabaña 98',\n",
    "'Pedro Canisio 1103',\n",
    "'Malmo 478',\n",
    "'Luis Valenzuela Aris 3220',\n",
    "'Los Militares 5277',\n",
    "'suarez mujica 411',\n",
    "'Alfredo Barros Errazuriz 1900'\n",
    "'Augusto Leguía sur 98',\n",
    "'Suecia 2624',\n",
    "'Martin Alonzo Pinzon 7420',\n",
    "'Sebastian Elcano 1055',\n",
    "'Sebastián Elcano 1055',\n",
    "'echeñique 5100']\n",
    "```\n",
    "lo que queremos hacer es crear una funcion que separe la direccion en Nombre de la calle como una lista y el numero en otra lista:\n",
    "\n",
    "Dificultad: ★★★☆☆\n",
    "\n",
    "Tip: \n",
    "- Pueden usar la funcion ``` split() ``` para separar los textos  \n",
    "Ej: \n",
    "```\n",
    "direccion = 'Soy una direccion 123'\n",
    "direccion.split(' ')\n",
    ">> ['Soy', 'una', 'direccion', '123']\n",
    "```\n",
    "\n",
    "- Pueden usar ```isnumeric()``` para ver si el contenido es exclusivamente numeros.  \n",
    "Ej: \n",
    "```\n",
    "direccion = 'Soy una direccion 123'\n",
    "direccion.isnumeric()\n",
    ">> False\n",
    "```\n",
    "```\n",
    "direccion = '123'\n",
    "direccion.isnumeric()\n",
    ">> True\n",
    "```\n",
    "- Pueden usar ``` append()``` para agregar un elemento a la lista  \n",
    "Ej:\n",
    "```\n",
    "lista1 = [3, 1 ,2]\n",
    "elemento_agregar = 0\n",
    "lista1.append(elemento_agregar)\n",
    ">> [3, 1, 2, 0]\n",
    "```"
   ],
   "cell_type": "markdown",
   "metadata": {}
  },
  {
   "cell_type": "code",
   "execution_count": 10,
   "metadata": {},
   "outputs": [],
   "source": [
    "direcciones = ['Dr. Genaro Benavieses 6174',\n",
    "'Cerezos 33',\n",
    "'La Cabaña 98',\n",
    "'Pedro Canisio 1103',\n",
    "'Malmo 478',\n",
    "'Luis Valenzuela Aris 3220',\n",
    "'Los Militares 5277',\n",
    "'suarez mujica 411',\n",
    "'Alfredo Barros Errazuriz 1900',\n",
    "'Augusto Leguía sur 98',\n",
    "'Suecia 2624',\n",
    "'Martin Alonzo Pinzon 7420',\n",
    "'Sebastian Elcano 1055',\n",
    "'Sebastián Elcano 1055',\n",
    "'echeñique 5100']"
   ]
  },
  {
   "cell_type": "code",
   "execution_count": 14,
   "metadata": {},
   "outputs": [],
   "source": [
    "def ajuste_direccion(direccion):\n",
    "    '''\n",
    "    Funcion que seprar la direccion en dos listas, una de la calle y la otra el numero\n",
    "    '''\n",
    "    if type(direccion) == list: #Primero comprobar que la direcciones que se entregan es del tipo que esperamos recibir, donde se basaran todos los oasis.\n",
    "        resultado_direccion = [] #Inicio una lista vacia donde se almacenaran las direcciones\n",
    "        resultado_numero = [] #IDEM pero el numero\n",
    "        for i in direccion: #Para cada elemento en direccion\n",
    "            direccion_ajustada = i.split(' ') #Separo la direccion por espacios.\n",
    "            direccion = \"\"\n",
    "            for j in direccion_ajustada: #Para cada espacio que separé\n",
    "                if j.isnumeric(): #Si el segmento es numerico\n",
    "                    resultado_numero.append(int(j)) #Lo agregaro a los numeros\n",
    "                else: #De lo contrario \n",
    "                    direccion = direccion + ' ' + j #Uno la piezas para tener la direccion completa.\n",
    "            resultado_direccion.append(direccion) #Lo agrego a las direccion\n",
    "        return resultado_direccion, resultado_numero\n",
    "    else:\n",
    "        raise Exception(f'Se esperaba un elemto de tipo lista pero se recibio un elemento de tipo: {type(direccion)}')"
   ]
  },
  {
   "cell_type": "code",
   "execution_count": 15,
   "metadata": {},
   "outputs": [],
   "source": [
    "resultado_direccion, resultado_numero = ajuste_direccion(direcciones)"
   ]
  },
  {
   "cell_type": "code",
   "execution_count": 16,
   "metadata": {},
   "outputs": [
    {
     "output_type": "execute_result",
     "data": {
      "text/plain": [
       "[' Dr. Genaro Benavieses',\n",
       " ' Cerezos',\n",
       " ' La Cabaña',\n",
       " ' Pedro Canisio',\n",
       " ' Malmo',\n",
       " ' Luis Valenzuela Aris',\n",
       " ' Los Militares',\n",
       " ' suarez mujica',\n",
       " ' Alfredo Barros Errazuriz',\n",
       " ' Augusto Leguía sur',\n",
       " ' Suecia',\n",
       " ' Martin Alonzo Pinzon',\n",
       " ' Sebastian Elcano',\n",
       " ' Sebastián Elcano',\n",
       " ' echeñique']"
      ]
     },
     "metadata": {},
     "execution_count": 16
    }
   ],
   "source": [
    "resultado_direccion"
   ]
  },
  {
   "cell_type": "code",
   "execution_count": 17,
   "metadata": {},
   "outputs": [
    {
     "output_type": "execute_result",
     "data": {
      "text/plain": [
       "[6174,\n",
       " 33,\n",
       " 98,\n",
       " 1103,\n",
       " 478,\n",
       " 3220,\n",
       " 5277,\n",
       " 411,\n",
       " 1900,\n",
       " 98,\n",
       " 2624,\n",
       " 7420,\n",
       " 1055,\n",
       " 1055,\n",
       " 5100]"
      ]
     },
     "metadata": {},
     "execution_count": 17
    }
   ],
   "source": [
    "resultado_numero"
   ]
  },
  {
   "source": [
    "### Creemos nuestro primer proyecto.\n",
    "Abre el archivo clase2_parte2.html"
   ],
   "cell_type": "markdown",
   "metadata": {}
  },
  {
   "cell_type": "code",
   "execution_count": null,
   "metadata": {},
   "outputs": [],
   "source": []
  }
 ]
}