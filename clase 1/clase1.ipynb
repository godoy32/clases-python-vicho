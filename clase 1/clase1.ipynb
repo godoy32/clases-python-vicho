{
 "metadata": {
  "language_info": {
   "codemirror_mode": {
    "name": "ipython",
    "version": 3
   },
   "file_extension": ".py",
   "mimetype": "text/x-python",
   "name": "python",
   "nbconvert_exporter": "python",
   "pygments_lexer": "ipython3",
   "version": "3.9.4"
  },
  "orig_nbformat": 2,
  "kernelspec": {
   "name": "python394jvsc74a57bd0cff77af2ea1c89379d86c16b453c62de53710c6cc8b3fa13ff6c18d678aa2dae",
   "display_name": "Python 3.9.4 64-bit"
  },
  "metadata": {
   "interpreter": {
    "hash": "cff77af2ea1c89379d86c16b453c62de53710c6cc8b3fa13ff6c18d678aa2dae"
   }
  }
 },
 "nbformat": 4,
 "nbformat_minor": 2,
 "cells": [
  {
   "source": [
    "## Clases de Python\n",
    "### Clase 1\n",
    "\n",
    "- Variables\n",
    "- Operaciones matematicas\n",
    "- Condiciones\n",
    "- Ciclos\n",
    "- Funciones parte 1"
   ],
   "cell_type": "markdown",
   "metadata": {}
  },
  {
   "source": [
    "### Variables"
   ],
   "cell_type": "markdown",
   "metadata": {}
  },
  {
   "cell_type": "code",
   "execution_count": 1,
   "metadata": {},
   "outputs": [],
   "source": [
    "#Este es un cometario, se omite al ejecutar.\n",
    "esta_es_una_variable = \"que tiene este valor\"\n",
    "#Los nombres de las variables no pueden llevar espacios ni caracteres especiales (á, ä. â, ñ, etc.)\n",
    "este_es_un_numero = 4\n",
    "este_es_un_decimal = 4.2\n",
    "este_es_un_booleano = True #Booleano tambien se le puede conocer como binario, solo puede tomar dos valores, Verdadero o Falso. "
   ]
  },
  {
   "source": [
    "Podemos ver el tipo de variable usando la  funcion:\n",
    "```python\n",
    "type(mi_variable)\n",
    "```\n"
   ],
   "cell_type": "markdown",
   "metadata": {}
  },
  {
   "cell_type": "code",
   "execution_count": 2,
   "metadata": {},
   "outputs": [
    {
     "output_type": "execute_result",
     "data": {
      "text/plain": [
       "str"
      ]
     },
     "metadata": {},
     "execution_count": 2
    }
   ],
   "source": [
    "type(esta_es_una_variable)"
   ]
  },
  {
   "source": [
    "### Glosario:\n",
    "- Str: String -> Texto\n",
    "- Int: Integer -> Numero entero\n",
    "- Float -> Numero decimal\n",
    "- Bool: Boolean -> Binario (0 o 1)"
   ],
   "cell_type": "markdown",
   "metadata": {}
  },
  {
   "source": [
    "Para mostrar algo en la patnalla se usa ``` print(\"Esto se mostara\") ```"
   ],
   "cell_type": "markdown",
   "metadata": {}
  },
  {
   "cell_type": "code",
   "execution_count": 3,
   "metadata": {},
   "outputs": [
    {
     "output_type": "stream",
     "name": "stdout",
     "text": [
      "<class 'str'>\n<class 'int'>\n<class 'float'>\n<class 'bool'>\n"
     ]
    }
   ],
   "source": [
    "print(type(esta_es_una_variable))\n",
    "print(type(este_es_un_numero))\n",
    "print(type(este_es_un_decimal))\n",
    "print(type(este_es_un_booleano))\n"
   ]
  },
  {
   "source": [
    "Se pueden hacer operaciones matematicas:  \n",
    "``` \n",
    "int + int \n",
    "float + int\n",
    "str + str\n",
    "```"
   ],
   "cell_type": "markdown",
   "metadata": {}
  },
  {
   "cell_type": "code",
   "execution_count": 4,
   "metadata": {},
   "outputs": [
    {
     "output_type": "stream",
     "name": "stdout",
     "text": [
      "8\n8.2\nque tiene este valorque tiene este valor\n"
     ]
    }
   ],
   "source": [
    "print(este_es_un_numero + este_es_un_numero)\n",
    "print(este_es_un_decimal + este_es_un_numero)\n",
    "print(esta_es_una_variable + esta_es_una_variable)"
   ]
  },
  {
   "source": [
    "Pero no se puede sumar un int con un str"
   ],
   "cell_type": "markdown",
   "metadata": {}
  },
  {
   "cell_type": "code",
   "execution_count": 5,
   "metadata": {},
   "outputs": [
    {
     "output_type": "error",
     "ename": "TypeError",
     "evalue": "unsupported operand type(s) for +: 'int' and 'str'",
     "traceback": [
      "\u001b[1;31m---------------------------------------------------------------------------\u001b[0m",
      "\u001b[1;31mTypeError\u001b[0m                                 Traceback (most recent call last)",
      "\u001b[1;32m<ipython-input-5-20eddb6b24b7>\u001b[0m in \u001b[0;36m<module>\u001b[1;34m\u001b[0m\n\u001b[1;32m----> 1\u001b[1;33m \u001b[0mprint\u001b[0m\u001b[1;33m(\u001b[0m\u001b[0meste_es_un_numero\u001b[0m \u001b[1;33m+\u001b[0m \u001b[0mesta_es_una_variable\u001b[0m\u001b[1;33m)\u001b[0m\u001b[1;33m\u001b[0m\u001b[1;33m\u001b[0m\u001b[0m\n\u001b[0m",
      "\u001b[1;31mTypeError\u001b[0m: unsupported operand type(s) for +: 'int' and 'str'"
     ]
    }
   ],
   "source": [
    "print(este_es_un_numero + esta_es_una_variable)"
   ]
  },
  {
   "source": [
    "Lo que si se puede hacer, es transformar el int en un str (pasar de numero a palabras) y sumar dos str (union de texto)"
   ],
   "cell_type": "markdown",
   "metadata": {}
  },
  {
   "cell_type": "code",
   "execution_count": 7,
   "metadata": {},
   "outputs": [
    {
     "output_type": "stream",
     "name": "stdout",
     "text": [
      "4que tiene este valor\n"
     ]
    }
   ],
   "source": [
    "print(str(este_es_un_numero) + esta_es_una_variable)"
   ]
  },
  {
   "source": [
    "### Diccionarios y listas\n",
    "Una lista es un vector (tambien se conoce como array) es un conjunto de valores en cadena.  \n",
    "  \n",
    "Un diccionario es un conjunto de valores pero no necesariamente en orden."
   ],
   "cell_type": "markdown",
   "metadata": {}
  },
  {
   "cell_type": "code",
   "execution_count": 8,
   "metadata": {},
   "outputs": [
    {
     "output_type": "stream",
     "name": "stdout",
     "text": [
      "['que tiene este valor', True, 4.2, 4]\n"
     ]
    }
   ],
   "source": [
    "esto_es_una_lista = [esta_es_una_variable, este_es_un_booleano, este_es_un_decimal, este_es_un_numero]\n",
    "print(esto_es_una_lista)"
   ]
  },
  {
   "source": [
    "Se puede accededr a cualquier valor, se pueden realizar operaciones gloables y se pueden agregar y sacar elementos."
   ],
   "cell_type": "markdown",
   "metadata": {}
  },
  {
   "cell_type": "code",
   "execution_count": 9,
   "metadata": {},
   "outputs": [
    {
     "output_type": "stream",
     "name": "stdout",
     "text": [
      "que tiene este valor\n<class 'list'>\n"
     ]
    }
   ],
   "source": [
    "print(esto_es_una_lista[0]) #Python siempre comienza contando con el 0.\n",
    "print(type(esto_es_una_lista))"
   ]
  },
  {
   "cell_type": "code",
   "execution_count": 10,
   "metadata": {},
   "outputs": [],
   "source": [
    "este_es_un_diccionario = {\n",
    "    'esta_es_una_variable': esta_es_una_variable,\n",
    "    'este_es_un_booleano': este_es_un_booleano,\n",
    "    'este_es_un_decimal': este_es_un_decimal,\n",
    "    'este_es_un_numero': este_es_un_numero\n",
    "}"
   ]
  },
  {
   "cell_type": "code",
   "execution_count": 11,
   "metadata": {},
   "outputs": [
    {
     "output_type": "stream",
     "name": "stdout",
     "text": [
      "que tiene este valor\n<class 'dict'>\n"
     ]
    }
   ],
   "source": [
    "print(este_es_un_diccionario['esta_es_una_variable']) #Para acceder a una posicion hay que llamar al nombre de la llave.\n",
    "print(type(este_es_un_diccionario))"
   ]
  },
  {
   "source": [
    "Se puede tener diccionarios dentro de listas y listas dentro de diccionarios."
   ],
   "cell_type": "markdown",
   "metadata": {}
  },
  {
   "cell_type": "code",
   "execution_count": 12,
   "metadata": {},
   "outputs": [],
   "source": [
    "esto_es_un_diccionario_dentro_de_una_lista = [este_es_un_diccionario, este_es_un_diccionario]"
   ]
  },
  {
   "cell_type": "code",
   "execution_count": 13,
   "metadata": {},
   "outputs": [
    {
     "output_type": "stream",
     "name": "stdout",
     "text": [
      "{'esta_es_una_variable': 'que tiene este valor', 'este_es_un_booleano': True, 'este_es_un_decimal': 4.2, 'este_es_un_numero': 4}\n<class 'list'>\n<class 'dict'>\n"
     ]
    }
   ],
   "source": [
    "print(esto_es_un_diccionario_dentro_de_una_lista[0])\n",
    "print(type(esto_es_un_diccionario_dentro_de_una_lista))\n",
    "print(type(esto_es_un_diccionario_dentro_de_una_lista[0]))"
   ]
  },
  {
   "source": [
    "### Operaciones matematicas\n",
    "- Suma (+)\n",
    "- Resta (-)\n",
    "- Multiplicacion (*)\n",
    "- Division (/)\n",
    "- Modulo (%) -> Es el resto de la division, ej: 5/3 = 1 con resto 2, entonces 5%3 = 2\n",
    "- Elevar $(**) -> 5^2 -> 5**2 $"
   ],
   "cell_type": "markdown",
   "metadata": {}
  },
  {
   "cell_type": "code",
   "execution_count": 14,
   "metadata": {},
   "outputs": [
    {
     "output_type": "stream",
     "name": "stdout",
     "text": [
      "20\n15.5\nsoy una suma\n2\n1.7099759466766968\n"
     ]
    }
   ],
   "source": [
    "print(5+15)\n",
    "print(10+5.5)\n",
    "print('soy una'+' suma')\n",
    "print(5%3)\n",
    "print(5**(1/3))"
   ]
  },
  {
   "source": [
    "### Condicionalidades\n",
    "verificar o preguntar algo a una/s variable/s"
   ],
   "cell_type": "markdown",
   "metadata": {}
  },
  {
   "cell_type": "code",
   "execution_count": 15,
   "metadata": {},
   "outputs": [
    {
     "output_type": "stream",
     "name": "stdout",
     "text": [
      "Hola soy verderaro\n"
     ]
    }
   ],
   "source": [
    "if este_es_un_booleano == True: #si este_es_un_booleano es verdero:\n",
    "    #si la condiciones verdadero entra aca\n",
    "    print(\"Hola soy verderaro\")\n",
    "else: #De lo contrario\n",
    "    print(\"Soy falso :C\")"
   ]
  },
  {
   "source": [
    "Tambien se puede hacer un conjunto de preguntas. Que siguen la misma logica de las preporciciones de algebra.  \n",
    "- & -> Es un Y\n",
    "- | -> Es un O  \n",
    "Por ejemplo:  \n",
    "- (a == 1) & (b == 0) --> a es 1 Y b es 0  \n",
    "- (a == 1) | (b == 0) --> a es 1 O b es 0\n",
    "- ((a == 1) | (b == 0)) & (c == 4) --> (a es 1 O b es 0) Y c es 4"
   ],
   "cell_type": "markdown",
   "metadata": {}
  },
  {
   "source": [
    "### Ciclos\n",
    "Existen dos tipos de ciclos: for y while\n",
    "- for: Tiene una periocidad finita, itera un numero determinado de veces\n",
    "- while: Termina de iterar cuando se cumple una condicion."
   ],
   "cell_type": "markdown",
   "metadata": {}
  },
  {
   "cell_type": "code",
   "execution_count": 16,
   "metadata": {},
   "outputs": [
    {
     "output_type": "stream",
     "name": "stdout",
     "text": [
      "que tiene este valor\nTrue\n4.2\n4\n"
     ]
    }
   ],
   "source": [
    "#En los for se puede recorrer str, list, dict, etc.\n",
    "for i in esto_es_una_lista:\n",
    "    print(i)"
   ]
  },
  {
   "cell_type": "code",
   "execution_count": 17,
   "metadata": {},
   "outputs": [
    {
     "output_type": "stream",
     "name": "stdout",
     "text": [
      "esta_es_una_variable\neste_es_un_booleano\neste_es_un_decimal\neste_es_un_numero\n"
     ]
    }
   ],
   "source": [
    "for i in este_es_un_diccionario:\n",
    "    print(i)"
   ]
  },
  {
   "cell_type": "code",
   "execution_count": 18,
   "metadata": {},
   "outputs": [
    {
     "output_type": "stream",
     "name": "stdout",
     "text": [
      "que tiene este valor\n",
      "True\n",
      "4.2\n",
      "4\n"
     ]
    }
   ],
   "source": [
    "for i in este_es_un_diccionario:\n",
    "    print(este_es_un_diccionario[i])"
   ]
  },
  {
   "source": [
    "Se pueden hacer ciclos anidados:"
   ],
   "cell_type": "markdown",
   "metadata": {}
  },
  {
   "cell_type": "code",
   "execution_count": 19,
   "metadata": {},
   "outputs": [
    {
     "output_type": "stream",
     "name": "stdout",
     "text": [
      "[{'esta_es_una_variable': 'que tiene este valor', 'este_es_un_booleano': True, 'este_es_un_decimal': 4.2, 'este_es_un_numero': 4}, {'esta_es_una_variable': 'que tiene este valor', 'este_es_un_booleano': True, 'este_es_un_decimal': 4.2, 'este_es_un_numero': 4}]\n",
      "{'esta_es_una_variable': 'que tiene este valor', 'este_es_un_booleano': True, 'este_es_un_decimal': 4.2, 'este_es_un_numero': 4}\n",
      "que tiene este valor\n",
      "True\n",
      "4.2\n",
      "4\n",
      "{'esta_es_una_variable': 'que tiene este valor', 'este_es_un_booleano': True, 'este_es_un_decimal': 4.2, 'este_es_un_numero': 4}\n",
      "que tiene este valor\n",
      "True\n",
      "4.2\n",
      "4\n"
     ]
    }
   ],
   "source": [
    "print(esto_es_un_diccionario_dentro_de_una_lista)\n",
    "for i in esto_es_un_diccionario_dentro_de_una_lista:\n",
    "    print(i)\n",
    "    for j in i:\n",
    "        print(i[j])"
   ]
  },
  {
   "source": [
    "computacionalmente no es recomendado esta tecnica. NUNCA SE DEBEN HACER CICLOS ANIDADOS."
   ],
   "cell_type": "markdown",
   "metadata": {}
  },
  {
   "cell_type": "code",
   "execution_count": 20,
   "metadata": {
    "tags": []
   },
   "outputs": [
    {
     "output_type": "stream",
     "name": "stdout",
     "text": [
      "Estamos buscando la v en \"que tiene este valor\"\n",
      "No te pille en la posicion 0, buscaré en la siguiente\n",
      "No te pille en la posicion 1, buscaré en la siguiente\n",
      "No te pille en la posicion 2, buscaré en la siguiente\n",
      "No te pille en la posicion 3, buscaré en la siguiente\n",
      "No te pille en la posicion 4, buscaré en la siguiente\n",
      "No te pille en la posicion 5, buscaré en la siguiente\n",
      "No te pille en la posicion 6, buscaré en la siguiente\n",
      "No te pille en la posicion 7, buscaré en la siguiente\n",
      "No te pille en la posicion 8, buscaré en la siguiente\n",
      "No te pille en la posicion 9, buscaré en la siguiente\n",
      "No te pille en la posicion 10, buscaré en la siguiente\n",
      "No te pille en la posicion 11, buscaré en la siguiente\n",
      "No te pille en la posicion 12, buscaré en la siguiente\n",
      "No te pille en la posicion 13, buscaré en la siguiente\n",
      "No te pille en la posicion 14, buscaré en la siguiente\n",
      "Te pille! la v esta en la posicion: 15\n"
     ]
    }
   ],
   "source": [
    "esto_tiene_que_ser_verdadero = False\n",
    "posicion = 0\n",
    "print(f'Estamos buscando la v en \"{esta_es_una_variable}\"')\n",
    "while esto_tiene_que_ser_verdadero == False:\n",
    "    if esta_es_una_variable[posicion] == 'v':\n",
    "        print(f'Te pille! la v esta en la posicion: {posicion}')\n",
    "        esto_tiene_que_ser_verdadero = True\n",
    "    else:\n",
    "        print(f'No te pille en la posicion {posicion}, buscaré en la siguiente')\n",
    "        posicion = posicion + 1"
   ]
  },
  {
   "source": [
    "### Funciones\n",
    "Esta es la parte mas importante, nos permitirá tener un codigo ordenado y claro.  \n",
    "Es una buena practica documentar todo."
   ],
   "cell_type": "markdown",
   "metadata": {}
  },
  {
   "cell_type": "code",
   "execution_count": 21,
   "metadata": {},
   "outputs": [],
   "source": [
    "def encontrar_la_v(palabra: str):\n",
    "    '''\n",
    "    Esta funcion se encarga de buscar dentro de una palabra la letra \"v\".\n",
    "    Buscara caracter por caracter hasta encontrarla\n",
    "    '''\n",
    "    esto_tiene_que_ser_verdadero = False\n",
    "    posicion = 0\n",
    "    print(f'Estamos buscando la v en \"{palabra}\"')\n",
    "    while esto_tiene_que_ser_verdadero == False:\n",
    "        if palabra[posicion] == 'v':\n",
    "            print(f'Te pille! la v esta en la posicion: {posicion}')\n",
    "            esto_tiene_que_ser_verdadero = True\n",
    "        else:\n",
    "            print(f'No te pille en la posicion {posicion}, buscaré en la siguiente')\n",
    "            posicion = posicion + 1"
   ]
  },
  {
   "cell_type": "code",
   "execution_count": 22,
   "metadata": {},
   "outputs": [
    {
     "output_type": "stream",
     "name": "stdout",
     "text": [
      "Estamos buscando la v en \"tendre alguna v ?\"\nNo te pille en la posicion 0, buscaré en la siguiente\nNo te pille en la posicion 1, buscaré en la siguiente\nNo te pille en la posicion 2, buscaré en la siguiente\nNo te pille en la posicion 3, buscaré en la siguiente\nNo te pille en la posicion 4, buscaré en la siguiente\nNo te pille en la posicion 5, buscaré en la siguiente\nNo te pille en la posicion 6, buscaré en la siguiente\nNo te pille en la posicion 7, buscaré en la siguiente\nNo te pille en la posicion 8, buscaré en la siguiente\nNo te pille en la posicion 9, buscaré en la siguiente\nNo te pille en la posicion 10, buscaré en la siguiente\nNo te pille en la posicion 11, buscaré en la siguiente\nNo te pille en la posicion 12, buscaré en la siguiente\nNo te pille en la posicion 13, buscaré en la siguiente\nTe pille! la v esta en la posicion: 14\n"
     ]
    }
   ],
   "source": [
    "encontrar_la_v(\"tendre alguna v ?\")"
   ]
  },
  {
   "cell_type": "code",
   "execution_count": 23,
   "metadata": {},
   "outputs": [
    {
     "output_type": "stream",
     "name": "stdout",
     "text": [
      "Estamos buscando la v en \"que pasa si es que no la tengo?\"\n",
      "No te pille en la posicion 0, buscaré en la siguiente\n",
      "No te pille en la posicion 1, buscaré en la siguiente\n",
      "No te pille en la posicion 2, buscaré en la siguiente\n",
      "No te pille en la posicion 3, buscaré en la siguiente\n",
      "No te pille en la posicion 4, buscaré en la siguiente\n",
      "No te pille en la posicion 5, buscaré en la siguiente\n",
      "No te pille en la posicion 6, buscaré en la siguiente\n",
      "No te pille en la posicion 7, buscaré en la siguiente\n",
      "No te pille en la posicion 8, buscaré en la siguiente\n",
      "No te pille en la posicion 9, buscaré en la siguiente\n",
      "No te pille en la posicion 10, buscaré en la siguiente\n",
      "No te pille en la posicion 11, buscaré en la siguiente\n",
      "No te pille en la posicion 12, buscaré en la siguiente\n",
      "No te pille en la posicion 13, buscaré en la siguiente\n",
      "No te pille en la posicion 14, buscaré en la siguiente\n",
      "No te pille en la posicion 15, buscaré en la siguiente\n",
      "No te pille en la posicion 16, buscaré en la siguiente\n",
      "No te pille en la posicion 17, buscaré en la siguiente\n",
      "No te pille en la posicion 18, buscaré en la siguiente\n",
      "No te pille en la posicion 19, buscaré en la siguiente\n",
      "No te pille en la posicion 20, buscaré en la siguiente\n",
      "No te pille en la posicion 21, buscaré en la siguiente\n",
      "No te pille en la posicion 22, buscaré en la siguiente\n",
      "No te pille en la posicion 23, buscaré en la siguiente\n",
      "No te pille en la posicion 24, buscaré en la siguiente\n",
      "No te pille en la posicion 25, buscaré en la siguiente\n",
      "No te pille en la posicion 26, buscaré en la siguiente\n",
      "No te pille en la posicion 27, buscaré en la siguiente\n",
      "No te pille en la posicion 28, buscaré en la siguiente\n",
      "No te pille en la posicion 29, buscaré en la siguiente\n",
      "No te pille en la posicion 30, buscaré en la siguiente\n"
     ]
    },
    {
     "output_type": "error",
     "ename": "IndexError",
     "evalue": "string index out of range",
     "traceback": [
      "\u001b[1;31m---------------------------------------------------------------------------\u001b[0m",
      "\u001b[1;31mIndexError\u001b[0m                                Traceback (most recent call last)",
      "\u001b[1;32m<ipython-input-23-c8d16dd2788c>\u001b[0m in \u001b[0;36m<module>\u001b[1;34m\u001b[0m\n\u001b[1;32m----> 1\u001b[1;33m \u001b[0mencontrar_la_v\u001b[0m\u001b[1;33m(\u001b[0m\u001b[1;34m\"que pasa si es que no la tengo?\"\u001b[0m\u001b[1;33m)\u001b[0m\u001b[1;33m\u001b[0m\u001b[1;33m\u001b[0m\u001b[0m\n\u001b[0m",
      "\u001b[1;32m<ipython-input-21-2df905fbbc2b>\u001b[0m in \u001b[0;36mencontrar_la_v\u001b[1;34m(palabra)\u001b[0m\n\u001b[0;32m      8\u001b[0m     \u001b[0mprint\u001b[0m\u001b[1;33m(\u001b[0m\u001b[1;34mf'Estamos buscando la v en \"{palabra}\"'\u001b[0m\u001b[1;33m)\u001b[0m\u001b[1;33m\u001b[0m\u001b[1;33m\u001b[0m\u001b[0m\n\u001b[0;32m      9\u001b[0m     \u001b[1;32mwhile\u001b[0m \u001b[0mesto_tiene_que_ser_verdadero\u001b[0m \u001b[1;33m==\u001b[0m \u001b[1;32mFalse\u001b[0m\u001b[1;33m:\u001b[0m\u001b[1;33m\u001b[0m\u001b[1;33m\u001b[0m\u001b[0m\n\u001b[1;32m---> 10\u001b[1;33m         \u001b[1;32mif\u001b[0m \u001b[0mpalabra\u001b[0m\u001b[1;33m[\u001b[0m\u001b[0mposicion\u001b[0m\u001b[1;33m]\u001b[0m \u001b[1;33m==\u001b[0m \u001b[1;34m'v'\u001b[0m\u001b[1;33m:\u001b[0m\u001b[1;33m\u001b[0m\u001b[1;33m\u001b[0m\u001b[0m\n\u001b[0m\u001b[0;32m     11\u001b[0m             \u001b[0mprint\u001b[0m\u001b[1;33m(\u001b[0m\u001b[1;34mf'Te pille! la v esta en la posicion: {posicion}'\u001b[0m\u001b[1;33m)\u001b[0m\u001b[1;33m\u001b[0m\u001b[1;33m\u001b[0m\u001b[0m\n\u001b[0;32m     12\u001b[0m             \u001b[0mesto_tiene_que_ser_verdadero\u001b[0m \u001b[1;33m=\u001b[0m \u001b[1;32mTrue\u001b[0m\u001b[1;33m\u001b[0m\u001b[1;33m\u001b[0m\u001b[0m\n",
      "\u001b[1;31mIndexError\u001b[0m: string index out of range"
     ]
    }
   ],
   "source": [
    "encontrar_la_v(\"que pasa si es que no la tengo?\")"
   ]
  },
  {
   "source": [
    "Ss muy feo ese error. Se puede hacer algo mas formal:"
   ],
   "cell_type": "markdown",
   "metadata": {}
  },
  {
   "cell_type": "code",
   "execution_count": 54,
   "metadata": {},
   "outputs": [],
   "source": [
    "def encontrar_la_v(palabra: str):\n",
    "    '''\n",
    "    Esta funcion se encarga de buscar dentro de una palabra la letra \"v\".\n",
    "    Buscara caracter por caracter hasta encontrarla\n",
    "    '''\n",
    "    esto_tiene_que_ser_verdadero = False\n",
    "    posicion = 0\n",
    "    print(f'Estamos buscando la v en \"{palabra}\"')\n",
    "    while esto_tiene_que_ser_verdadero == False:\n",
    "        if palabra[posicion] == 'v':\n",
    "            print(f'Te pille! la v esta en la posicion: {posicion}')\n",
    "            esto_tiene_que_ser_verdadero = True\n",
    "        elif posicion+1 == len(palabra):\n",
    "            print(\"No lo encontre :C\")\n",
    "            esto_tiene_que_ser_verdadero = True\n",
    "        else:\n",
    "            print(f'No te pille en la posicion {posicion}, buscaré en la siguiente')\n",
    "            posicion = posicion + 1\n",
    "        "
   ]
  },
  {
   "cell_type": "code",
   "execution_count": 55,
   "metadata": {},
   "outputs": [
    {
     "output_type": "stream",
     "name": "stdout",
     "text": [
      "Estamos buscando la v en \"que pasa si es que no la tengo?\"\nNo te pille en la posicion 0, buscaré en la siguiente\nNo te pille en la posicion 1, buscaré en la siguiente\nNo te pille en la posicion 2, buscaré en la siguiente\nNo te pille en la posicion 3, buscaré en la siguiente\nNo te pille en la posicion 4, buscaré en la siguiente\nNo te pille en la posicion 5, buscaré en la siguiente\nNo te pille en la posicion 6, buscaré en la siguiente\nNo te pille en la posicion 7, buscaré en la siguiente\nNo te pille en la posicion 8, buscaré en la siguiente\nNo te pille en la posicion 9, buscaré en la siguiente\nNo te pille en la posicion 10, buscaré en la siguiente\nNo te pille en la posicion 11, buscaré en la siguiente\nNo te pille en la posicion 12, buscaré en la siguiente\nNo te pille en la posicion 13, buscaré en la siguiente\nNo te pille en la posicion 14, buscaré en la siguiente\nNo te pille en la posicion 15, buscaré en la siguiente\nNo te pille en la posicion 16, buscaré en la siguiente\nNo te pille en la posicion 17, buscaré en la siguiente\nNo te pille en la posicion 18, buscaré en la siguiente\nNo te pille en la posicion 19, buscaré en la siguiente\nNo te pille en la posicion 20, buscaré en la siguiente\nNo te pille en la posicion 21, buscaré en la siguiente\nNo te pille en la posicion 22, buscaré en la siguiente\nNo te pille en la posicion 23, buscaré en la siguiente\nNo te pille en la posicion 24, buscaré en la siguiente\nNo te pille en la posicion 25, buscaré en la siguiente\nNo te pille en la posicion 26, buscaré en la siguiente\nNo te pille en la posicion 27, buscaré en la siguiente\nNo te pille en la posicion 28, buscaré en la siguiente\nNo te pille en la posicion 29, buscaré en la siguiente\nNo lo encontre :C\n"
     ]
    }
   ],
   "source": [
    "encontrar_la_v(\"que pasa si es que no la tengo?\")"
   ]
  }
 ]
}