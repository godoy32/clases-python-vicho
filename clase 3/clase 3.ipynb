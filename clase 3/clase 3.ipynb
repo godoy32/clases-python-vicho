{
 "metadata": {
  "language_info": {
   "codemirror_mode": {
    "name": "ipython",
    "version": 3
   },
   "file_extension": ".py",
   "mimetype": "text/x-python",
   "name": "python",
   "nbconvert_exporter": "python",
   "pygments_lexer": "ipython3",
   "version": "3.9.4"
  },
  "orig_nbformat": 2,
  "kernelspec": {
   "name": "python394jvsc74a57bd0cff77af2ea1c89379d86c16b453c62de53710c6cc8b3fa13ff6c18d678aa2dae",
   "display_name": "Python 3.9.4 64-bit"
  },
  "metadata": {
   "interpreter": {
    "hash": "cff77af2ea1c89379d86c16b453c62de53710c6cc8b3fa13ff6c18d678aa2dae"
   }
  }
 },
 "nbformat": 4,
 "nbformat_minor": 2,
 "cells": [
  {
   "source": [
    "## Clase 3 - Analisis de clientes\n",
    "\n",
    "- Importacion de acrhivos\n",
    "- Manejo de la información\n",
    "- Primero uso de algoritmo de clasificacion\n",
    "- Primeras visualizaciones\n",
    "- Primer algoritmo de machine learning (no supervisado)"
   ],
   "cell_type": "markdown",
   "metadata": {}
  },
  {
   "source": [
    "import pandas as pd #Voy a usar pandas para manejar los archivos"
   ],
   "cell_type": "code",
   "metadata": {},
   "execution_count": 1,
   "outputs": []
  },
  {
   "source": [
    "En la carpeta data hay 2 csv -> _cliente.csv_ y _ventas.csv_. Ambos vienen de la base de datos de Huevos Hermanos."
   ],
   "cell_type": "markdown",
   "metadata": {}
  },
  {
   "cell_type": "code",
   "execution_count": 2,
   "metadata": {},
   "outputs": [],
   "source": [
    "#Leer .*CSV en pandas:\n",
    "cliente = pd.read_csv('data/cliente.csv', sep = ';') \n",
    "#El sep = ';' es para decirle a pandas que nuestro\n",
    "#archivo esta sepadarado por ; en vez de ,\n",
    "ventas = pd.read_csv('data/ventas.csv', sep = ';') "
   ]
  },
  {
   "cell_type": "code",
   "execution_count": 3,
   "metadata": {},
   "outputs": [
    {
     "output_type": "execute_result",
     "data": {
      "text/plain": [
       "   id                nombre      comuna                   dirección depto  \\\n",
       "0   1          Agustin 1605       Ñuñoa                  Cerezos 33  1605   \n",
       "1   2  Agustin Depto Guaton       Ñuñoa                  Cerezos 33  1605   \n",
       "2   3       Agustina Barcia  Las Condes   Martin Alonso Pinzon 6500    32   \n",
       "3   4          Aida Salazar         NaN                         NaN   NaN   \n",
       "4   5   Alberto Veliz Perez    La Reina  Dr. Genaro Benavieses 6174     B   \n",
       "\n",
       "    teléfono whatsapp observaciones  \n",
       "0  962386970       No           NaN  \n",
       "1  962386970       No           NaN  \n",
       "2  962874433       Si           NaN  \n",
       "3  999699049       Si           NaN  \n",
       "4  977088919       Si           NaN  "
      ],
      "text/html": "<div>\n<style scoped>\n    .dataframe tbody tr th:only-of-type {\n        vertical-align: middle;\n    }\n\n    .dataframe tbody tr th {\n        vertical-align: top;\n    }\n\n    .dataframe thead th {\n        text-align: right;\n    }\n</style>\n<table border=\"1\" class=\"dataframe\">\n  <thead>\n    <tr style=\"text-align: right;\">\n      <th></th>\n      <th>id</th>\n      <th>nombre</th>\n      <th>comuna</th>\n      <th>dirección</th>\n      <th>depto</th>\n      <th>teléfono</th>\n      <th>whatsapp</th>\n      <th>observaciones</th>\n    </tr>\n  </thead>\n  <tbody>\n    <tr>\n      <th>0</th>\n      <td>1</td>\n      <td>Agustin 1605</td>\n      <td>Ñuñoa</td>\n      <td>Cerezos 33</td>\n      <td>1605</td>\n      <td>962386970</td>\n      <td>No</td>\n      <td>NaN</td>\n    </tr>\n    <tr>\n      <th>1</th>\n      <td>2</td>\n      <td>Agustin Depto Guaton</td>\n      <td>Ñuñoa</td>\n      <td>Cerezos 33</td>\n      <td>1605</td>\n      <td>962386970</td>\n      <td>No</td>\n      <td>NaN</td>\n    </tr>\n    <tr>\n      <th>2</th>\n      <td>3</td>\n      <td>Agustina Barcia</td>\n      <td>Las Condes</td>\n      <td>Martin Alonso Pinzon 6500</td>\n      <td>32</td>\n      <td>962874433</td>\n      <td>Si</td>\n      <td>NaN</td>\n    </tr>\n    <tr>\n      <th>3</th>\n      <td>4</td>\n      <td>Aida Salazar</td>\n      <td>NaN</td>\n      <td>NaN</td>\n      <td>NaN</td>\n      <td>999699049</td>\n      <td>Si</td>\n      <td>NaN</td>\n    </tr>\n    <tr>\n      <th>4</th>\n      <td>5</td>\n      <td>Alberto Veliz Perez</td>\n      <td>La Reina</td>\n      <td>Dr. Genaro Benavieses 6174</td>\n      <td>B</td>\n      <td>977088919</td>\n      <td>Si</td>\n      <td>NaN</td>\n    </tr>\n  </tbody>\n</table>\n</div>"
     },
     "metadata": {},
     "execution_count": 3
    }
   ],
   "source": [
    "#Esta es la base de cliente.\n",
    "cliente.head(5)"
   ]
  },
  {
   "cell_type": "code",
   "execution_count": 4,
   "metadata": {},
   "outputs": [
    {
     "output_type": "execute_result",
     "data": {
      "text/plain": [
       "Index(['id', 'nombre', 'comuna', 'dirección', 'depto', 'teléfono', 'whatsapp',\n",
       "       'observaciones'],\n",
       "      dtype='object')"
      ]
     },
     "metadata": {},
     "execution_count": 4
    }
   ],
   "source": [
    "#Estas son las columnas que tiene:\n",
    "cliente.columns"
   ]
  },
  {
   "cell_type": "code",
   "execution_count": 5,
   "metadata": {},
   "outputs": [
    {
     "output_type": "execute_result",
     "data": {
      "text/plain": [
       "        fecha            nombre        comuna                     direccion  \\\n",
       "0  22-08-2020     Daniela Arcos  Lo Barnechea                  Robles 12729   \n",
       "1  22-08-2020  Sylvia Sepulveda         Ñuñoa                    Sucre 1940   \n",
       "2  22-08-2020      Paul Wijnant    Las condes        Alonso de cordova 5045   \n",
       "3  22-08-2020   Nani Mercandino    Las Condes          constancio vigil 416   \n",
       "4  22-08-2020    Fabiola Zapata   Providencia  Plaza Pedro De Valdivia 1743   \n",
       "\n",
       "  depto     telefono categoria                           tipo  cantidad  \\\n",
       "0  401B  56977913112       Sal                     Sal (1 Kg)       1.0   \n",
       "1   32B  56985051456     Huevo      Tradicionales (1 bandeja)       1.0   \n",
       "2  1307  56991951136     Huevo  Tradicionales (Media bandeja)       1.0   \n",
       "3     0  56997992017     Huevo      Tradicionales (1 bandeja)       1.0   \n",
       "4    12  56985294221     Huevo      Tradicionales (1 bandeja)       2.0   \n",
       "\n",
       "  tipo_venta total_pagar    metodo_pago monto_pagado deuda estado_entrega  \\\n",
       "0     Normal      $4.000  Transferencia       $4.000    $0      Entregado   \n",
       "1     Normal      $6.000  Transferencia       $6.000    $0      Entregado   \n",
       "2     Normal      $4.000  Transferencia       $4.000    $0      Entregado   \n",
       "3     Normal      $6.000  Transferencia       $6.000    $0      Entregado   \n",
       "4     Normal     $12.000  Transferencia      $12.000    $0      Entregado   \n",
       "\n",
       "  estado_venta  \n",
       "0   Completado  \n",
       "1   Completado  \n",
       "2   Completado  \n",
       "3   Completado  \n",
       "4   Completado  "
      ],
      "text/html": "<div>\n<style scoped>\n    .dataframe tbody tr th:only-of-type {\n        vertical-align: middle;\n    }\n\n    .dataframe tbody tr th {\n        vertical-align: top;\n    }\n\n    .dataframe thead th {\n        text-align: right;\n    }\n</style>\n<table border=\"1\" class=\"dataframe\">\n  <thead>\n    <tr style=\"text-align: right;\">\n      <th></th>\n      <th>fecha</th>\n      <th>nombre</th>\n      <th>comuna</th>\n      <th>direccion</th>\n      <th>depto</th>\n      <th>telefono</th>\n      <th>categoria</th>\n      <th>tipo</th>\n      <th>cantidad</th>\n      <th>tipo_venta</th>\n      <th>total_pagar</th>\n      <th>metodo_pago</th>\n      <th>monto_pagado</th>\n      <th>deuda</th>\n      <th>estado_entrega</th>\n      <th>estado_venta</th>\n    </tr>\n  </thead>\n  <tbody>\n    <tr>\n      <th>0</th>\n      <td>22-08-2020</td>\n      <td>Daniela Arcos</td>\n      <td>Lo Barnechea</td>\n      <td>Robles 12729</td>\n      <td>401B</td>\n      <td>56977913112</td>\n      <td>Sal</td>\n      <td>Sal (1 Kg)</td>\n      <td>1.0</td>\n      <td>Normal</td>\n      <td>$4.000</td>\n      <td>Transferencia</td>\n      <td>$4.000</td>\n      <td>$0</td>\n      <td>Entregado</td>\n      <td>Completado</td>\n    </tr>\n    <tr>\n      <th>1</th>\n      <td>22-08-2020</td>\n      <td>Sylvia Sepulveda</td>\n      <td>Ñuñoa</td>\n      <td>Sucre 1940</td>\n      <td>32B</td>\n      <td>56985051456</td>\n      <td>Huevo</td>\n      <td>Tradicionales (1 bandeja)</td>\n      <td>1.0</td>\n      <td>Normal</td>\n      <td>$6.000</td>\n      <td>Transferencia</td>\n      <td>$6.000</td>\n      <td>$0</td>\n      <td>Entregado</td>\n      <td>Completado</td>\n    </tr>\n    <tr>\n      <th>2</th>\n      <td>22-08-2020</td>\n      <td>Paul Wijnant</td>\n      <td>Las condes</td>\n      <td>Alonso de cordova 5045</td>\n      <td>1307</td>\n      <td>56991951136</td>\n      <td>Huevo</td>\n      <td>Tradicionales (Media bandeja)</td>\n      <td>1.0</td>\n      <td>Normal</td>\n      <td>$4.000</td>\n      <td>Transferencia</td>\n      <td>$4.000</td>\n      <td>$0</td>\n      <td>Entregado</td>\n      <td>Completado</td>\n    </tr>\n    <tr>\n      <th>3</th>\n      <td>22-08-2020</td>\n      <td>Nani Mercandino</td>\n      <td>Las Condes</td>\n      <td>constancio vigil 416</td>\n      <td>0</td>\n      <td>56997992017</td>\n      <td>Huevo</td>\n      <td>Tradicionales (1 bandeja)</td>\n      <td>1.0</td>\n      <td>Normal</td>\n      <td>$6.000</td>\n      <td>Transferencia</td>\n      <td>$6.000</td>\n      <td>$0</td>\n      <td>Entregado</td>\n      <td>Completado</td>\n    </tr>\n    <tr>\n      <th>4</th>\n      <td>22-08-2020</td>\n      <td>Fabiola Zapata</td>\n      <td>Providencia</td>\n      <td>Plaza Pedro De Valdivia 1743</td>\n      <td>12</td>\n      <td>56985294221</td>\n      <td>Huevo</td>\n      <td>Tradicionales (1 bandeja)</td>\n      <td>2.0</td>\n      <td>Normal</td>\n      <td>$12.000</td>\n      <td>Transferencia</td>\n      <td>$12.000</td>\n      <td>$0</td>\n      <td>Entregado</td>\n      <td>Completado</td>\n    </tr>\n  </tbody>\n</table>\n</div>"
     },
     "metadata": {},
     "execution_count": 5
    }
   ],
   "source": [
    "#Estas son las ventas\n",
    "ventas.head(5)"
   ]
  },
  {
   "cell_type": "code",
   "execution_count": 6,
   "metadata": {},
   "outputs": [
    {
     "output_type": "execute_result",
     "data": {
      "text/plain": [
       "Index(['fecha', 'nombre', 'comuna', 'direccion', 'depto', 'telefono',\n",
       "       'categoria', 'tipo', 'cantidad', 'tipo_venta', 'total_pagar',\n",
       "       'metodo_pago', 'monto_pagado', 'deuda', 'estado_entrega',\n",
       "       'estado_venta'],\n",
       "      dtype='object')"
      ]
     },
     "metadata": {},
     "execution_count": 6
    }
   ],
   "source": [
    "#Y estas son las columnas\n",
    "ventas.columns"
   ]
  },
  {
   "source": [
    "## Como consejo\n",
    "Intenta poner siempre el nombre de las variables en minusculas y simples."
   ],
   "cell_type": "markdown",
   "metadata": {}
  },
  {
   "source": [
    "## Buscamos hacer la siguiente tabla.\n",
    "\n",
    "| id_cliente | dias_desde_primera_compra | sal |  huevo |  miel |  cereza |  quinoa |  huevo2 |        almendra |  nueces | monto_pagado | normal | promocion | gratis | cantidad |\n",
    "|------------|---------------------|-----|--------|-------|---------|---------|---------|-----------------|---------|--------------|--------|-----------|--------|----------|\n",
    "| 1          | 301                 | 0   | 0      | 1     | 0       | 3       | 1       | 0               | 0       | 4500         | 2      | 2         | 0      | 5        |\n",
    "| 2          | 141                 | 0   | 0      | 0     | 1       | 0       | 0       | 0               | 0       | 3500         | 1      | 0         | 0      | 2        |\n",
    "| 3          | 5                   | 0   | 0      | 0     | 0       | 1       | 0       | 0               | 0       | 4000         | 1      | 0         | 0      | 1        |"
   ],
   "cell_type": "markdown",
   "metadata": {}
  },
  {
   "source": [
    "## Vamos por parte dijo Camiroaga\n",
    "Tenemos que obtener lo siguiente:  \n",
    "-Dias desde primera compra  \n",
    "-Cantidad de sal, huevo y cada uno de los productos  \n",
    "-La suma de los montos totales  \n",
    "-Tipo de ventas  "
   ],
   "cell_type": "markdown",
   "metadata": {}
  },
  {
   "cell_type": "code",
   "execution_count": 7,
   "metadata": {},
   "outputs": [
    {
     "output_type": "execute_result",
     "data": {
      "text/plain": [
       "           fecha                   nombre        comuna  \\\n",
       "0     22-08-2020            Daniela Arcos  Lo Barnechea   \n",
       "1     22-08-2020         Sylvia Sepulveda         Ñuñoa   \n",
       "2     22-08-2020             Paul Wijnant    Las condes   \n",
       "3     22-08-2020          Nani Mercandino    Las Condes   \n",
       "4     22-08-2020           Fabiola Zapata   Providencia   \n",
       "...          ...                      ...           ...   \n",
       "2474  08-05-2021                 Tia Mimi    Las Condes   \n",
       "2475  08-05-2021         Javiera Contente      Vitacura   \n",
       "2476  08-05-2021         Javiera Contente      Vitacura   \n",
       "2477  08-05-2021  Cristian Jaramillo meza         Ñuñoa   \n",
       "2478  08-05-2021            Catalina Cura    Las Condes   \n",
       "\n",
       "                         direccion depto     telefono categoria  \\\n",
       "0                     Robles 12729  401B  56977913112       Sal   \n",
       "1                       Sucre 1940   32B  56985051456     Huevo   \n",
       "2           Alonso de cordova 5045  1307  56991951136     Huevo   \n",
       "3             constancio vigil 416     0  56997992017     Huevo   \n",
       "4     Plaza Pedro De Valdivia 1743    12  56985294221     Huevo   \n",
       "...                            ...   ...          ...       ...   \n",
       "2474                  latadia 6484     0  56993335142     Huevo   \n",
       "2475               Las Nieves 3681   202  56956088505       Sal   \n",
       "2476               Las Nieves 3681   202  56956088505       sal   \n",
       "2477                Av Grecia 5207     0  56995275558       NaN   \n",
       "2478                   Hamlet 4000   311  56990997101     Huevo   \n",
       "\n",
       "                               tipo  cantidad tipo_venta total_pagar  \\\n",
       "0                        Sal (1 Kg)       1.0     Normal      $4.000   \n",
       "1         Tradicionales (1 bandeja)       1.0     Normal      $6.000   \n",
       "2     Tradicionales (Media bandeja)       1.0     Normal      $4.000   \n",
       "3         Tradicionales (1 bandeja)       1.0     Normal      $6.000   \n",
       "4         Tradicionales (1 bandeja)       2.0     Normal     $12.000   \n",
       "...                             ...       ...        ...         ...   \n",
       "2474      Tradicionales (1 bandeja)       1.0     Normal      $6.000   \n",
       "2475                     Sal (1 Kg)       2.0        NaN      $7.200   \n",
       "2476             Molino de sal alto       1.0        NaN      $4.500   \n",
       "2477                            NaN       NaN        NaN          $0   \n",
       "2478      Tradicionales (1 bandeja)       1.0        NaN      $5.400   \n",
       "\n",
       "        metodo_pago monto_pagado   deuda estado_entrega       estado_venta  \n",
       "0     Transferencia       $4.000      $0      Entregado         Completado  \n",
       "1     Transferencia       $6.000      $0      Entregado         Completado  \n",
       "2     Transferencia       $4.000      $0      Entregado         Completado  \n",
       "3     Transferencia       $6.000      $0      Entregado         Completado  \n",
       "4     Transferencia      $12.000      $0      Entregado         Completado  \n",
       "...             ...          ...     ...            ...                ...  \n",
       "2474  Transferencia       $6.000      $0      Entregado  Pendiente de pago  \n",
       "2475            NaN          NaN  $7.200      Entregado         Completado  \n",
       "2476            NaN          NaN  $4.500      Entregado  Pendiente de pago  \n",
       "2477            NaN          NaN      $0      Entregado  Pendiente de pago  \n",
       "2478            NaN          NaN  $5.400      Entregado         Completado  \n",
       "\n",
       "[2479 rows x 16 columns]"
      ],
      "text/html": "<div>\n<style scoped>\n    .dataframe tbody tr th:only-of-type {\n        vertical-align: middle;\n    }\n\n    .dataframe tbody tr th {\n        vertical-align: top;\n    }\n\n    .dataframe thead th {\n        text-align: right;\n    }\n</style>\n<table border=\"1\" class=\"dataframe\">\n  <thead>\n    <tr style=\"text-align: right;\">\n      <th></th>\n      <th>fecha</th>\n      <th>nombre</th>\n      <th>comuna</th>\n      <th>direccion</th>\n      <th>depto</th>\n      <th>telefono</th>\n      <th>categoria</th>\n      <th>tipo</th>\n      <th>cantidad</th>\n      <th>tipo_venta</th>\n      <th>total_pagar</th>\n      <th>metodo_pago</th>\n      <th>monto_pagado</th>\n      <th>deuda</th>\n      <th>estado_entrega</th>\n      <th>estado_venta</th>\n    </tr>\n  </thead>\n  <tbody>\n    <tr>\n      <th>0</th>\n      <td>22-08-2020</td>\n      <td>Daniela Arcos</td>\n      <td>Lo Barnechea</td>\n      <td>Robles 12729</td>\n      <td>401B</td>\n      <td>56977913112</td>\n      <td>Sal</td>\n      <td>Sal (1 Kg)</td>\n      <td>1.0</td>\n      <td>Normal</td>\n      <td>$4.000</td>\n      <td>Transferencia</td>\n      <td>$4.000</td>\n      <td>$0</td>\n      <td>Entregado</td>\n      <td>Completado</td>\n    </tr>\n    <tr>\n      <th>1</th>\n      <td>22-08-2020</td>\n      <td>Sylvia Sepulveda</td>\n      <td>Ñuñoa</td>\n      <td>Sucre 1940</td>\n      <td>32B</td>\n      <td>56985051456</td>\n      <td>Huevo</td>\n      <td>Tradicionales (1 bandeja)</td>\n      <td>1.0</td>\n      <td>Normal</td>\n      <td>$6.000</td>\n      <td>Transferencia</td>\n      <td>$6.000</td>\n      <td>$0</td>\n      <td>Entregado</td>\n      <td>Completado</td>\n    </tr>\n    <tr>\n      <th>2</th>\n      <td>22-08-2020</td>\n      <td>Paul Wijnant</td>\n      <td>Las condes</td>\n      <td>Alonso de cordova 5045</td>\n      <td>1307</td>\n      <td>56991951136</td>\n      <td>Huevo</td>\n      <td>Tradicionales (Media bandeja)</td>\n      <td>1.0</td>\n      <td>Normal</td>\n      <td>$4.000</td>\n      <td>Transferencia</td>\n      <td>$4.000</td>\n      <td>$0</td>\n      <td>Entregado</td>\n      <td>Completado</td>\n    </tr>\n    <tr>\n      <th>3</th>\n      <td>22-08-2020</td>\n      <td>Nani Mercandino</td>\n      <td>Las Condes</td>\n      <td>constancio vigil 416</td>\n      <td>0</td>\n      <td>56997992017</td>\n      <td>Huevo</td>\n      <td>Tradicionales (1 bandeja)</td>\n      <td>1.0</td>\n      <td>Normal</td>\n      <td>$6.000</td>\n      <td>Transferencia</td>\n      <td>$6.000</td>\n      <td>$0</td>\n      <td>Entregado</td>\n      <td>Completado</td>\n    </tr>\n    <tr>\n      <th>4</th>\n      <td>22-08-2020</td>\n      <td>Fabiola Zapata</td>\n      <td>Providencia</td>\n      <td>Plaza Pedro De Valdivia 1743</td>\n      <td>12</td>\n      <td>56985294221</td>\n      <td>Huevo</td>\n      <td>Tradicionales (1 bandeja)</td>\n      <td>2.0</td>\n      <td>Normal</td>\n      <td>$12.000</td>\n      <td>Transferencia</td>\n      <td>$12.000</td>\n      <td>$0</td>\n      <td>Entregado</td>\n      <td>Completado</td>\n    </tr>\n    <tr>\n      <th>...</th>\n      <td>...</td>\n      <td>...</td>\n      <td>...</td>\n      <td>...</td>\n      <td>...</td>\n      <td>...</td>\n      <td>...</td>\n      <td>...</td>\n      <td>...</td>\n      <td>...</td>\n      <td>...</td>\n      <td>...</td>\n      <td>...</td>\n      <td>...</td>\n      <td>...</td>\n      <td>...</td>\n    </tr>\n    <tr>\n      <th>2474</th>\n      <td>08-05-2021</td>\n      <td>Tia Mimi</td>\n      <td>Las Condes</td>\n      <td>latadia 6484</td>\n      <td>0</td>\n      <td>56993335142</td>\n      <td>Huevo</td>\n      <td>Tradicionales (1 bandeja)</td>\n      <td>1.0</td>\n      <td>Normal</td>\n      <td>$6.000</td>\n      <td>Transferencia</td>\n      <td>$6.000</td>\n      <td>$0</td>\n      <td>Entregado</td>\n      <td>Pendiente de pago</td>\n    </tr>\n    <tr>\n      <th>2475</th>\n      <td>08-05-2021</td>\n      <td>Javiera Contente</td>\n      <td>Vitacura</td>\n      <td>Las Nieves 3681</td>\n      <td>202</td>\n      <td>56956088505</td>\n      <td>Sal</td>\n      <td>Sal (1 Kg)</td>\n      <td>2.0</td>\n      <td>NaN</td>\n      <td>$7.200</td>\n      <td>NaN</td>\n      <td>NaN</td>\n      <td>$7.200</td>\n      <td>Entregado</td>\n      <td>Completado</td>\n    </tr>\n    <tr>\n      <th>2476</th>\n      <td>08-05-2021</td>\n      <td>Javiera Contente</td>\n      <td>Vitacura</td>\n      <td>Las Nieves 3681</td>\n      <td>202</td>\n      <td>56956088505</td>\n      <td>sal</td>\n      <td>Molino de sal alto</td>\n      <td>1.0</td>\n      <td>NaN</td>\n      <td>$4.500</td>\n      <td>NaN</td>\n      <td>NaN</td>\n      <td>$4.500</td>\n      <td>Entregado</td>\n      <td>Pendiente de pago</td>\n    </tr>\n    <tr>\n      <th>2477</th>\n      <td>08-05-2021</td>\n      <td>Cristian Jaramillo meza</td>\n      <td>Ñuñoa</td>\n      <td>Av Grecia 5207</td>\n      <td>0</td>\n      <td>56995275558</td>\n      <td>NaN</td>\n      <td>NaN</td>\n      <td>NaN</td>\n      <td>NaN</td>\n      <td>$0</td>\n      <td>NaN</td>\n      <td>NaN</td>\n      <td>$0</td>\n      <td>Entregado</td>\n      <td>Pendiente de pago</td>\n    </tr>\n    <tr>\n      <th>2478</th>\n      <td>08-05-2021</td>\n      <td>Catalina Cura</td>\n      <td>Las Condes</td>\n      <td>Hamlet 4000</td>\n      <td>311</td>\n      <td>56990997101</td>\n      <td>Huevo</td>\n      <td>Tradicionales (1 bandeja)</td>\n      <td>1.0</td>\n      <td>NaN</td>\n      <td>$5.400</td>\n      <td>NaN</td>\n      <td>NaN</td>\n      <td>$5.400</td>\n      <td>Entregado</td>\n      <td>Completado</td>\n    </tr>\n  </tbody>\n</table>\n<p>2479 rows × 16 columns</p>\n</div>"
     },
     "metadata": {},
     "execution_count": 7
    }
   ],
   "source": [
    "#Dias desde el registro.\n",
    "#Paso 0: Identificar la tabla a utilizar\n",
    "ventas"
   ]
  },
  {
   "cell_type": "code",
   "execution_count": 8,
   "metadata": {},
   "outputs": [
    {
     "output_type": "execute_result",
     "data": {
      "text/plain": [
       "           fecha                   nombre          comuna_x  \\\n",
       "0     22-08-2020            Daniela Arcos      Lo Barnechea   \n",
       "1     22-08-2020         Sylvia Sepulveda             Ñuñoa   \n",
       "2     17-09-2020         Sylvia Sepulveda             Ñuñoa   \n",
       "3     24-10-2020         Sylvia Sepulveda             Ñuñoa   \n",
       "4     15-11-2020         Sylvia Sepulveda             Ñuñoa   \n",
       "...          ...                      ...               ...   \n",
       "2350  08-05-2021       Maria Ines herrera        Las condes   \n",
       "2351  08-05-2021   Debora Vega Lisperguer  Estacion central   \n",
       "2352  08-05-2021   Debora Vega Lisperguer  Estacion central   \n",
       "2353  08-05-2021         Daniela Maqueira             Ñuñoa   \n",
       "2354  08-05-2021  Cristian Jaramillo meza             Ñuñoa   \n",
       "\n",
       "                        direccion depto_x     telefono categoria  \\\n",
       "0                    Robles 12729    401B  56977913112       Sal   \n",
       "1                      Sucre 1940     32B  56985051456     Huevo   \n",
       "2                      Sucre 1940     32B  56985051456     Huevo   \n",
       "3                      Sucre 1940     32B  56985051456     Huevo   \n",
       "4                      Sucre 1940     32B  56985051456     Huevo   \n",
       "...                           ...     ...          ...       ...   \n",
       "2350  av padre huertado norte 182      31  56992232671  Almendra   \n",
       "2351              Laguna sur 6260    1401  56994439790    Nueces   \n",
       "2352              Laguna sur 6260    1401  56994439790    Quinoa   \n",
       "2353    Profesor Rodolfo Lenz 605      61  56993546957     Huevo   \n",
       "2354               Av Grecia 5207       0  56995275558       NaN   \n",
       "\n",
       "                           tipo  cantidad tipo_venta  ...    deuda  \\\n",
       "0                    Sal (1 Kg)       1.0     Normal  ...       $0   \n",
       "1     Tradicionales (1 bandeja)       1.0     Normal  ...       $0   \n",
       "2     Tradicionales (1 bandeja)       1.0     Normal  ...       $0   \n",
       "3     Tradicionales (1 bandeja)       1.0     Normal  ...       $0   \n",
       "4     Tradicionales (1 bandeja)       1.0     Normal  ...       $0   \n",
       "...                         ...       ...        ...  ...      ...   \n",
       "2350               Almendra 1kg       1.0  Promocion  ...   $8.100   \n",
       "2351                 Nueces 1kg       1.0     Normal  ...   $9.000   \n",
       "2352                     Quinoa       1.0     Normal  ...   $4.000   \n",
       "2353       Tradicionales (Caja)       2.0     Normal  ...  $60.000   \n",
       "2354                        NaN       NaN        NaN  ...       $0   \n",
       "\n",
       "     estado_entrega       estado_venta   id          comuna_y  \\\n",
       "0         Entregado         Completado  194      Lo Barnechea   \n",
       "1         Entregado         Completado  592             Ñuñoa   \n",
       "2         Entregado         Completado  592             Ñuñoa   \n",
       "3         Entregado         Completado  592             Ñuñoa   \n",
       "4         Entregado         Completado  592             Ñuñoa   \n",
       "...             ...                ...  ...               ...   \n",
       "2350      Entregado  Pendiente de pago  413        Las condes   \n",
       "2351      Entregado  Pendiente de pago  717  Estacion central   \n",
       "2352      Entregado  Pendiente de pago  717  Estacion central   \n",
       "2353      Entregado  Pendiente de pago  738             Ñuñoa   \n",
       "2354      Entregado  Pendiente de pago  718             Ñuñoa   \n",
       "\n",
       "                        dirección  depto_y   teléfono whatsapp  \\\n",
       "0                    Robles 12729     401B  977913112       Si   \n",
       "1                      Sucre 1940      32B  985051456       Si   \n",
       "2                      Sucre 1940      32B  985051456       Si   \n",
       "3                      Sucre 1940      32B  985051456       Si   \n",
       "4                      Sucre 1940      32B  985051456       Si   \n",
       "...                           ...      ...        ...      ...   \n",
       "2350  av padre huertado norte 182       31  992232671       Si   \n",
       "2351              Laguna sur 6260     1401  994439790       si   \n",
       "2352              Laguna sur 6260     1401  994439790       si   \n",
       "2353    Profesor Rodolfo Lenz 605       61  993546957       si   \n",
       "2354               Av Grecia 5207      NaN  995275558      NaN   \n",
       "\n",
       "                      observaciones  \n",
       "0                               NaN  \n",
       "1     milagro Concerje dejar flayer  \n",
       "2     milagro Concerje dejar flayer  \n",
       "3     milagro Concerje dejar flayer  \n",
       "4     milagro Concerje dejar flayer  \n",
       "...                             ...  \n",
       "2350                            NaN  \n",
       "2351                            NaN  \n",
       "2352                            NaN  \n",
       "2353                            NaN  \n",
       "2354                            NaN  \n",
       "\n",
       "[2355 rows x 23 columns]"
      ],
      "text/html": "<div>\n<style scoped>\n    .dataframe tbody tr th:only-of-type {\n        vertical-align: middle;\n    }\n\n    .dataframe tbody tr th {\n        vertical-align: top;\n    }\n\n    .dataframe thead th {\n        text-align: right;\n    }\n</style>\n<table border=\"1\" class=\"dataframe\">\n  <thead>\n    <tr style=\"text-align: right;\">\n      <th></th>\n      <th>fecha</th>\n      <th>nombre</th>\n      <th>comuna_x</th>\n      <th>direccion</th>\n      <th>depto_x</th>\n      <th>telefono</th>\n      <th>categoria</th>\n      <th>tipo</th>\n      <th>cantidad</th>\n      <th>tipo_venta</th>\n      <th>...</th>\n      <th>deuda</th>\n      <th>estado_entrega</th>\n      <th>estado_venta</th>\n      <th>id</th>\n      <th>comuna_y</th>\n      <th>dirección</th>\n      <th>depto_y</th>\n      <th>teléfono</th>\n      <th>whatsapp</th>\n      <th>observaciones</th>\n    </tr>\n  </thead>\n  <tbody>\n    <tr>\n      <th>0</th>\n      <td>22-08-2020</td>\n      <td>Daniela Arcos</td>\n      <td>Lo Barnechea</td>\n      <td>Robles 12729</td>\n      <td>401B</td>\n      <td>56977913112</td>\n      <td>Sal</td>\n      <td>Sal (1 Kg)</td>\n      <td>1.0</td>\n      <td>Normal</td>\n      <td>...</td>\n      <td>$0</td>\n      <td>Entregado</td>\n      <td>Completado</td>\n      <td>194</td>\n      <td>Lo Barnechea</td>\n      <td>Robles 12729</td>\n      <td>401B</td>\n      <td>977913112</td>\n      <td>Si</td>\n      <td>NaN</td>\n    </tr>\n    <tr>\n      <th>1</th>\n      <td>22-08-2020</td>\n      <td>Sylvia Sepulveda</td>\n      <td>Ñuñoa</td>\n      <td>Sucre 1940</td>\n      <td>32B</td>\n      <td>56985051456</td>\n      <td>Huevo</td>\n      <td>Tradicionales (1 bandeja)</td>\n      <td>1.0</td>\n      <td>Normal</td>\n      <td>...</td>\n      <td>$0</td>\n      <td>Entregado</td>\n      <td>Completado</td>\n      <td>592</td>\n      <td>Ñuñoa</td>\n      <td>Sucre 1940</td>\n      <td>32B</td>\n      <td>985051456</td>\n      <td>Si</td>\n      <td>milagro Concerje dejar flayer</td>\n    </tr>\n    <tr>\n      <th>2</th>\n      <td>17-09-2020</td>\n      <td>Sylvia Sepulveda</td>\n      <td>Ñuñoa</td>\n      <td>Sucre 1940</td>\n      <td>32B</td>\n      <td>56985051456</td>\n      <td>Huevo</td>\n      <td>Tradicionales (1 bandeja)</td>\n      <td>1.0</td>\n      <td>Normal</td>\n      <td>...</td>\n      <td>$0</td>\n      <td>Entregado</td>\n      <td>Completado</td>\n      <td>592</td>\n      <td>Ñuñoa</td>\n      <td>Sucre 1940</td>\n      <td>32B</td>\n      <td>985051456</td>\n      <td>Si</td>\n      <td>milagro Concerje dejar flayer</td>\n    </tr>\n    <tr>\n      <th>3</th>\n      <td>24-10-2020</td>\n      <td>Sylvia Sepulveda</td>\n      <td>Ñuñoa</td>\n      <td>Sucre 1940</td>\n      <td>32B</td>\n      <td>56985051456</td>\n      <td>Huevo</td>\n      <td>Tradicionales (1 bandeja)</td>\n      <td>1.0</td>\n      <td>Normal</td>\n      <td>...</td>\n      <td>$0</td>\n      <td>Entregado</td>\n      <td>Completado</td>\n      <td>592</td>\n      <td>Ñuñoa</td>\n      <td>Sucre 1940</td>\n      <td>32B</td>\n      <td>985051456</td>\n      <td>Si</td>\n      <td>milagro Concerje dejar flayer</td>\n    </tr>\n    <tr>\n      <th>4</th>\n      <td>15-11-2020</td>\n      <td>Sylvia Sepulveda</td>\n      <td>Ñuñoa</td>\n      <td>Sucre 1940</td>\n      <td>32B</td>\n      <td>56985051456</td>\n      <td>Huevo</td>\n      <td>Tradicionales (1 bandeja)</td>\n      <td>1.0</td>\n      <td>Normal</td>\n      <td>...</td>\n      <td>$0</td>\n      <td>Entregado</td>\n      <td>Completado</td>\n      <td>592</td>\n      <td>Ñuñoa</td>\n      <td>Sucre 1940</td>\n      <td>32B</td>\n      <td>985051456</td>\n      <td>Si</td>\n      <td>milagro Concerje dejar flayer</td>\n    </tr>\n    <tr>\n      <th>...</th>\n      <td>...</td>\n      <td>...</td>\n      <td>...</td>\n      <td>...</td>\n      <td>...</td>\n      <td>...</td>\n      <td>...</td>\n      <td>...</td>\n      <td>...</td>\n      <td>...</td>\n      <td>...</td>\n      <td>...</td>\n      <td>...</td>\n      <td>...</td>\n      <td>...</td>\n      <td>...</td>\n      <td>...</td>\n      <td>...</td>\n      <td>...</td>\n      <td>...</td>\n      <td>...</td>\n    </tr>\n    <tr>\n      <th>2350</th>\n      <td>08-05-2021</td>\n      <td>Maria Ines herrera</td>\n      <td>Las condes</td>\n      <td>av padre huertado norte 182</td>\n      <td>31</td>\n      <td>56992232671</td>\n      <td>Almendra</td>\n      <td>Almendra 1kg</td>\n      <td>1.0</td>\n      <td>Promocion</td>\n      <td>...</td>\n      <td>$8.100</td>\n      <td>Entregado</td>\n      <td>Pendiente de pago</td>\n      <td>413</td>\n      <td>Las condes</td>\n      <td>av padre huertado norte 182</td>\n      <td>31</td>\n      <td>992232671</td>\n      <td>Si</td>\n      <td>NaN</td>\n    </tr>\n    <tr>\n      <th>2351</th>\n      <td>08-05-2021</td>\n      <td>Debora Vega Lisperguer</td>\n      <td>Estacion central</td>\n      <td>Laguna sur 6260</td>\n      <td>1401</td>\n      <td>56994439790</td>\n      <td>Nueces</td>\n      <td>Nueces 1kg</td>\n      <td>1.0</td>\n      <td>Normal</td>\n      <td>...</td>\n      <td>$9.000</td>\n      <td>Entregado</td>\n      <td>Pendiente de pago</td>\n      <td>717</td>\n      <td>Estacion central</td>\n      <td>Laguna sur 6260</td>\n      <td>1401</td>\n      <td>994439790</td>\n      <td>si</td>\n      <td>NaN</td>\n    </tr>\n    <tr>\n      <th>2352</th>\n      <td>08-05-2021</td>\n      <td>Debora Vega Lisperguer</td>\n      <td>Estacion central</td>\n      <td>Laguna sur 6260</td>\n      <td>1401</td>\n      <td>56994439790</td>\n      <td>Quinoa</td>\n      <td>Quinoa</td>\n      <td>1.0</td>\n      <td>Normal</td>\n      <td>...</td>\n      <td>$4.000</td>\n      <td>Entregado</td>\n      <td>Pendiente de pago</td>\n      <td>717</td>\n      <td>Estacion central</td>\n      <td>Laguna sur 6260</td>\n      <td>1401</td>\n      <td>994439790</td>\n      <td>si</td>\n      <td>NaN</td>\n    </tr>\n    <tr>\n      <th>2353</th>\n      <td>08-05-2021</td>\n      <td>Daniela Maqueira</td>\n      <td>Ñuñoa</td>\n      <td>Profesor Rodolfo Lenz 605</td>\n      <td>61</td>\n      <td>56993546957</td>\n      <td>Huevo</td>\n      <td>Tradicionales (Caja)</td>\n      <td>2.0</td>\n      <td>Normal</td>\n      <td>...</td>\n      <td>$60.000</td>\n      <td>Entregado</td>\n      <td>Pendiente de pago</td>\n      <td>738</td>\n      <td>Ñuñoa</td>\n      <td>Profesor Rodolfo Lenz 605</td>\n      <td>61</td>\n      <td>993546957</td>\n      <td>si</td>\n      <td>NaN</td>\n    </tr>\n    <tr>\n      <th>2354</th>\n      <td>08-05-2021</td>\n      <td>Cristian Jaramillo meza</td>\n      <td>Ñuñoa</td>\n      <td>Av Grecia 5207</td>\n      <td>0</td>\n      <td>56995275558</td>\n      <td>NaN</td>\n      <td>NaN</td>\n      <td>NaN</td>\n      <td>NaN</td>\n      <td>...</td>\n      <td>$0</td>\n      <td>Entregado</td>\n      <td>Pendiente de pago</td>\n      <td>718</td>\n      <td>Ñuñoa</td>\n      <td>Av Grecia 5207</td>\n      <td>NaN</td>\n      <td>995275558</td>\n      <td>NaN</td>\n      <td>NaN</td>\n    </tr>\n  </tbody>\n</table>\n<p>2355 rows × 23 columns</p>\n</div>"
     },
     "metadata": {},
     "execution_count": 8
    }
   ],
   "source": [
    "#Queremos rescatar unicamente el id del cliente y la fecha de su priemra compra.\n",
    "#Primero hay que agregar la id del cliente. Para eso lo vamos a hacer una union.\n",
    "ventas.merge(cliente, on = ['nombre']) #Uno la tabla ventas y la combino (merge) con cliente, usando la columna nombre.\n"
   ]
  },
  {
   "cell_type": "code",
   "execution_count": 9,
   "metadata": {},
   "outputs": [
    {
     "output_type": "execute_result",
     "data": {
      "text/plain": [
       "           fecha                   nombre            comuna  \\\n",
       "0     22-08-2020            Daniela Arcos      Lo Barnechea   \n",
       "1     22-08-2020         Sylvia Sepulveda             Ñuñoa   \n",
       "2     17-09-2020         Sylvia Sepulveda             Ñuñoa   \n",
       "3     24-10-2020         Sylvia Sepulveda             Ñuñoa   \n",
       "4     15-11-2020         Sylvia Sepulveda             Ñuñoa   \n",
       "...          ...                      ...               ...   \n",
       "2350  08-05-2021       Maria Ines herrera        Las condes   \n",
       "2351  08-05-2021   Debora Vega Lisperguer  Estacion central   \n",
       "2352  08-05-2021   Debora Vega Lisperguer  Estacion central   \n",
       "2353  08-05-2021         Daniela Maqueira             Ñuñoa   \n",
       "2354  08-05-2021  Cristian Jaramillo meza             Ñuñoa   \n",
       "\n",
       "                        direccion depto     telefono categoria  \\\n",
       "0                    Robles 12729  401B  56977913112       Sal   \n",
       "1                      Sucre 1940   32B  56985051456     Huevo   \n",
       "2                      Sucre 1940   32B  56985051456     Huevo   \n",
       "3                      Sucre 1940   32B  56985051456     Huevo   \n",
       "4                      Sucre 1940   32B  56985051456     Huevo   \n",
       "...                           ...   ...          ...       ...   \n",
       "2350  av padre huertado norte 182    31  56992232671  Almendra   \n",
       "2351              Laguna sur 6260  1401  56994439790    Nueces   \n",
       "2352              Laguna sur 6260  1401  56994439790    Quinoa   \n",
       "2353    Profesor Rodolfo Lenz 605    61  56993546957     Huevo   \n",
       "2354               Av Grecia 5207     0  56995275558       NaN   \n",
       "\n",
       "                           tipo  cantidad tipo_venta total_pagar  \\\n",
       "0                    Sal (1 Kg)       1.0     Normal      $4.000   \n",
       "1     Tradicionales (1 bandeja)       1.0     Normal      $6.000   \n",
       "2     Tradicionales (1 bandeja)       1.0     Normal      $6.000   \n",
       "3     Tradicionales (1 bandeja)       1.0     Normal      $6.000   \n",
       "4     Tradicionales (1 bandeja)       1.0     Normal      $6.000   \n",
       "...                         ...       ...        ...         ...   \n",
       "2350               Almendra 1kg       1.0  Promocion      $8.100   \n",
       "2351                 Nueces 1kg       1.0     Normal      $9.000   \n",
       "2352                     Quinoa       1.0     Normal      $4.000   \n",
       "2353       Tradicionales (Caja)       2.0     Normal     $60.000   \n",
       "2354                        NaN       NaN        NaN          $0   \n",
       "\n",
       "        metodo_pago monto_pagado    deuda estado_entrega       estado_venta  \\\n",
       "0     Transferencia       $4.000       $0      Entregado         Completado   \n",
       "1     Transferencia       $6.000       $0      Entregado         Completado   \n",
       "2     Transferencia       $6.000       $0      Entregado         Completado   \n",
       "3     Transferencia       $6.000       $0      Entregado         Completado   \n",
       "4     Transferencia       $6.000       $0      Entregado         Completado   \n",
       "...             ...          ...      ...            ...                ...   \n",
       "2350            NaN          NaN   $8.100      Entregado  Pendiente de pago   \n",
       "2351            NaN          NaN   $9.000      Entregado  Pendiente de pago   \n",
       "2352            NaN          NaN   $4.000      Entregado  Pendiente de pago   \n",
       "2353            NaN          NaN  $60.000      Entregado  Pendiente de pago   \n",
       "2354            NaN          NaN       $0      Entregado  Pendiente de pago   \n",
       "\n",
       "       id  \n",
       "0     194  \n",
       "1     592  \n",
       "2     592  \n",
       "3     592  \n",
       "4     592  \n",
       "...   ...  \n",
       "2350  413  \n",
       "2351  717  \n",
       "2352  717  \n",
       "2353  738  \n",
       "2354  718  \n",
       "\n",
       "[2355 rows x 17 columns]"
      ],
      "text/html": "<div>\n<style scoped>\n    .dataframe tbody tr th:only-of-type {\n        vertical-align: middle;\n    }\n\n    .dataframe tbody tr th {\n        vertical-align: top;\n    }\n\n    .dataframe thead th {\n        text-align: right;\n    }\n</style>\n<table border=\"1\" class=\"dataframe\">\n  <thead>\n    <tr style=\"text-align: right;\">\n      <th></th>\n      <th>fecha</th>\n      <th>nombre</th>\n      <th>comuna</th>\n      <th>direccion</th>\n      <th>depto</th>\n      <th>telefono</th>\n      <th>categoria</th>\n      <th>tipo</th>\n      <th>cantidad</th>\n      <th>tipo_venta</th>\n      <th>total_pagar</th>\n      <th>metodo_pago</th>\n      <th>monto_pagado</th>\n      <th>deuda</th>\n      <th>estado_entrega</th>\n      <th>estado_venta</th>\n      <th>id</th>\n    </tr>\n  </thead>\n  <tbody>\n    <tr>\n      <th>0</th>\n      <td>22-08-2020</td>\n      <td>Daniela Arcos</td>\n      <td>Lo Barnechea</td>\n      <td>Robles 12729</td>\n      <td>401B</td>\n      <td>56977913112</td>\n      <td>Sal</td>\n      <td>Sal (1 Kg)</td>\n      <td>1.0</td>\n      <td>Normal</td>\n      <td>$4.000</td>\n      <td>Transferencia</td>\n      <td>$4.000</td>\n      <td>$0</td>\n      <td>Entregado</td>\n      <td>Completado</td>\n      <td>194</td>\n    </tr>\n    <tr>\n      <th>1</th>\n      <td>22-08-2020</td>\n      <td>Sylvia Sepulveda</td>\n      <td>Ñuñoa</td>\n      <td>Sucre 1940</td>\n      <td>32B</td>\n      <td>56985051456</td>\n      <td>Huevo</td>\n      <td>Tradicionales (1 bandeja)</td>\n      <td>1.0</td>\n      <td>Normal</td>\n      <td>$6.000</td>\n      <td>Transferencia</td>\n      <td>$6.000</td>\n      <td>$0</td>\n      <td>Entregado</td>\n      <td>Completado</td>\n      <td>592</td>\n    </tr>\n    <tr>\n      <th>2</th>\n      <td>17-09-2020</td>\n      <td>Sylvia Sepulveda</td>\n      <td>Ñuñoa</td>\n      <td>Sucre 1940</td>\n      <td>32B</td>\n      <td>56985051456</td>\n      <td>Huevo</td>\n      <td>Tradicionales (1 bandeja)</td>\n      <td>1.0</td>\n      <td>Normal</td>\n      <td>$6.000</td>\n      <td>Transferencia</td>\n      <td>$6.000</td>\n      <td>$0</td>\n      <td>Entregado</td>\n      <td>Completado</td>\n      <td>592</td>\n    </tr>\n    <tr>\n      <th>3</th>\n      <td>24-10-2020</td>\n      <td>Sylvia Sepulveda</td>\n      <td>Ñuñoa</td>\n      <td>Sucre 1940</td>\n      <td>32B</td>\n      <td>56985051456</td>\n      <td>Huevo</td>\n      <td>Tradicionales (1 bandeja)</td>\n      <td>1.0</td>\n      <td>Normal</td>\n      <td>$6.000</td>\n      <td>Transferencia</td>\n      <td>$6.000</td>\n      <td>$0</td>\n      <td>Entregado</td>\n      <td>Completado</td>\n      <td>592</td>\n    </tr>\n    <tr>\n      <th>4</th>\n      <td>15-11-2020</td>\n      <td>Sylvia Sepulveda</td>\n      <td>Ñuñoa</td>\n      <td>Sucre 1940</td>\n      <td>32B</td>\n      <td>56985051456</td>\n      <td>Huevo</td>\n      <td>Tradicionales (1 bandeja)</td>\n      <td>1.0</td>\n      <td>Normal</td>\n      <td>$6.000</td>\n      <td>Transferencia</td>\n      <td>$6.000</td>\n      <td>$0</td>\n      <td>Entregado</td>\n      <td>Completado</td>\n      <td>592</td>\n    </tr>\n    <tr>\n      <th>...</th>\n      <td>...</td>\n      <td>...</td>\n      <td>...</td>\n      <td>...</td>\n      <td>...</td>\n      <td>...</td>\n      <td>...</td>\n      <td>...</td>\n      <td>...</td>\n      <td>...</td>\n      <td>...</td>\n      <td>...</td>\n      <td>...</td>\n      <td>...</td>\n      <td>...</td>\n      <td>...</td>\n      <td>...</td>\n    </tr>\n    <tr>\n      <th>2350</th>\n      <td>08-05-2021</td>\n      <td>Maria Ines herrera</td>\n      <td>Las condes</td>\n      <td>av padre huertado norte 182</td>\n      <td>31</td>\n      <td>56992232671</td>\n      <td>Almendra</td>\n      <td>Almendra 1kg</td>\n      <td>1.0</td>\n      <td>Promocion</td>\n      <td>$8.100</td>\n      <td>NaN</td>\n      <td>NaN</td>\n      <td>$8.100</td>\n      <td>Entregado</td>\n      <td>Pendiente de pago</td>\n      <td>413</td>\n    </tr>\n    <tr>\n      <th>2351</th>\n      <td>08-05-2021</td>\n      <td>Debora Vega Lisperguer</td>\n      <td>Estacion central</td>\n      <td>Laguna sur 6260</td>\n      <td>1401</td>\n      <td>56994439790</td>\n      <td>Nueces</td>\n      <td>Nueces 1kg</td>\n      <td>1.0</td>\n      <td>Normal</td>\n      <td>$9.000</td>\n      <td>NaN</td>\n      <td>NaN</td>\n      <td>$9.000</td>\n      <td>Entregado</td>\n      <td>Pendiente de pago</td>\n      <td>717</td>\n    </tr>\n    <tr>\n      <th>2352</th>\n      <td>08-05-2021</td>\n      <td>Debora Vega Lisperguer</td>\n      <td>Estacion central</td>\n      <td>Laguna sur 6260</td>\n      <td>1401</td>\n      <td>56994439790</td>\n      <td>Quinoa</td>\n      <td>Quinoa</td>\n      <td>1.0</td>\n      <td>Normal</td>\n      <td>$4.000</td>\n      <td>NaN</td>\n      <td>NaN</td>\n      <td>$4.000</td>\n      <td>Entregado</td>\n      <td>Pendiente de pago</td>\n      <td>717</td>\n    </tr>\n    <tr>\n      <th>2353</th>\n      <td>08-05-2021</td>\n      <td>Daniela Maqueira</td>\n      <td>Ñuñoa</td>\n      <td>Profesor Rodolfo Lenz 605</td>\n      <td>61</td>\n      <td>56993546957</td>\n      <td>Huevo</td>\n      <td>Tradicionales (Caja)</td>\n      <td>2.0</td>\n      <td>Normal</td>\n      <td>$60.000</td>\n      <td>NaN</td>\n      <td>NaN</td>\n      <td>$60.000</td>\n      <td>Entregado</td>\n      <td>Pendiente de pago</td>\n      <td>738</td>\n    </tr>\n    <tr>\n      <th>2354</th>\n      <td>08-05-2021</td>\n      <td>Cristian Jaramillo meza</td>\n      <td>Ñuñoa</td>\n      <td>Av Grecia 5207</td>\n      <td>0</td>\n      <td>56995275558</td>\n      <td>NaN</td>\n      <td>NaN</td>\n      <td>NaN</td>\n      <td>NaN</td>\n      <td>$0</td>\n      <td>NaN</td>\n      <td>NaN</td>\n      <td>$0</td>\n      <td>Entregado</td>\n      <td>Pendiente de pago</td>\n      <td>718</td>\n    </tr>\n  </tbody>\n</table>\n<p>2355 rows × 17 columns</p>\n</div>"
     },
     "metadata": {},
     "execution_count": 9
    }
   ],
   "source": [
    "#Pero como solo me interesa la columna ID de cliente puedo llamar a unicamente a esas columnas\n",
    "ventas.merge(cliente[['id','nombre']], on = ['nombre'])\n",
    "#Perfecto. Guardemosla."
   ]
  },
  {
   "cell_type": "code",
   "execution_count": 10,
   "metadata": {},
   "outputs": [],
   "source": [
    "ventas_id_cliente = ventas.merge(cliente[['id','nombre']], on = ['nombre'])"
   ]
  },
  {
   "cell_type": "code",
   "execution_count": 11,
   "metadata": {},
   "outputs": [
    {
     "output_type": "execute_result",
     "data": {
      "text/plain": [
       "      id       fecha\n",
       "0      3  10-04-2021\n",
       "1      4  21-11-2020\n",
       "2      5  01-05-2021\n",
       "3      8  06-03-2021\n",
       "4     10  23-01-2021\n",
       "..   ...         ...\n",
       "394  813  06-02-2021\n",
       "395  814  20-03-2021\n",
       "396  815  06-03-2021\n",
       "397  816  03-04-2021\n",
       "398  817  17-04-2021\n",
       "\n",
       "[399 rows x 2 columns]"
      ],
      "text/html": "<div>\n<style scoped>\n    .dataframe tbody tr th:only-of-type {\n        vertical-align: middle;\n    }\n\n    .dataframe tbody tr th {\n        vertical-align: top;\n    }\n\n    .dataframe thead th {\n        text-align: right;\n    }\n</style>\n<table border=\"1\" class=\"dataframe\">\n  <thead>\n    <tr style=\"text-align: right;\">\n      <th></th>\n      <th>id</th>\n      <th>fecha</th>\n    </tr>\n  </thead>\n  <tbody>\n    <tr>\n      <th>0</th>\n      <td>3</td>\n      <td>10-04-2021</td>\n    </tr>\n    <tr>\n      <th>1</th>\n      <td>4</td>\n      <td>21-11-2020</td>\n    </tr>\n    <tr>\n      <th>2</th>\n      <td>5</td>\n      <td>01-05-2021</td>\n    </tr>\n    <tr>\n      <th>3</th>\n      <td>8</td>\n      <td>06-03-2021</td>\n    </tr>\n    <tr>\n      <th>4</th>\n      <td>10</td>\n      <td>23-01-2021</td>\n    </tr>\n    <tr>\n      <th>...</th>\n      <td>...</td>\n      <td>...</td>\n    </tr>\n    <tr>\n      <th>394</th>\n      <td>813</td>\n      <td>06-02-2021</td>\n    </tr>\n    <tr>\n      <th>395</th>\n      <td>814</td>\n      <td>20-03-2021</td>\n    </tr>\n    <tr>\n      <th>396</th>\n      <td>815</td>\n      <td>06-03-2021</td>\n    </tr>\n    <tr>\n      <th>397</th>\n      <td>816</td>\n      <td>03-04-2021</td>\n    </tr>\n    <tr>\n      <th>398</th>\n      <td>817</td>\n      <td>17-04-2021</td>\n    </tr>\n  </tbody>\n</table>\n<p>399 rows × 2 columns</p>\n</div>"
     },
     "metadata": {},
     "execution_count": 11
    }
   ],
   "source": [
    "#Para agrupar (equivalente a una tabla \"dinamica\") se usa groupby\n",
    "ventas_id_cliente.groupby(['id']).agg({'fecha':'min'}).reset_index() #Agrupo en la tabla ventas la id y veo cual es la fecha minima. Nota: Fecha minima = Primera fecha.\n"
   ]
  },
  {
   "cell_type": "code",
   "execution_count": 12,
   "metadata": {},
   "outputs": [],
   "source": [
    "primera_compra_cliente = ventas_id_cliente.groupby(['id']).agg({'fecha':'min'}).reset_index()"
   ]
  },
  {
   "source": [
    "### Como lo calculo los dias desde el registro?!\n",
    "Hoy - primera_compra_cliente"
   ],
   "cell_type": "markdown",
   "metadata": {}
  },
  {
   "cell_type": "code",
   "execution_count": 13,
   "metadata": {},
   "outputs": [],
   "source": [
    "#Para sacar que día es hoy, vamos a usar el calendario.\n",
    "from datetime import datetime as dt #Hola calendario!"
   ]
  },
  {
   "cell_type": "code",
   "execution_count": 14,
   "metadata": {},
   "outputs": [
    {
     "output_type": "execute_result",
     "data": {
      "text/plain": [
       "datetime.datetime(2021, 5, 9, 1, 19, 56, 847006)"
      ]
     },
     "metadata": {},
     "execution_count": 14
    }
   ],
   "source": [
    "dt.today() #Calendario, que dia es hoy\n",
    "#El formato que entrega e: YYYY, M,D,H,M,S,MS"
   ]
  },
  {
   "cell_type": "code",
   "execution_count": 15,
   "metadata": {},
   "outputs": [
    {
     "output_type": "stream",
     "name": "stdout",
     "text": [
      "09/05/2021\nMay 09, 2021\n05/09/21\nMay-09-2021\n"
     ]
    }
   ],
   "source": [
    "#Pero podemos pedirlo como queramos.\n",
    "print(dt.today().strftime(\"%d/%m/%Y\"))\n",
    "print(dt.today().strftime(\"%B %d, %Y\"))\n",
    "print(dt.today().strftime(\"%m/%d/%y\"))\n",
    "print(dt.today().strftime(\"%b-%d-%Y\"))"
   ]
  },
  {
   "cell_type": "code",
   "execution_count": 16,
   "metadata": {},
   "outputs": [],
   "source": [
    "#guardemos hoy\n",
    "hoy = dt.today()"
   ]
  },
  {
   "cell_type": "code",
   "execution_count": 33,
   "metadata": {},
   "outputs": [],
   "source": [
    "#Restar con la fecha de la primera compra\n",
    "primera_compra_cliente['dias_desde_primera_compra'] = hoy - pd.to_datetime(primera_compra_cliente['fecha'], dayfirst =True)"
   ]
  },
  {
   "cell_type": "code",
   "execution_count": 34,
   "metadata": {},
   "outputs": [
    {
     "output_type": "execute_result",
     "data": {
      "text/plain": [
       "      id       fecha dias_desde_primera_compra\n",
       "0      3  10-04-2021   29 days 01:19:56.888005\n",
       "1      4  21-11-2020  169 days 01:19:56.888005\n",
       "2      5  01-05-2021    8 days 01:19:56.888005\n",
       "3      8  06-03-2021   64 days 01:19:56.888005\n",
       "4     10  23-01-2021  106 days 01:19:56.888005\n",
       "..   ...         ...                       ...\n",
       "394  813  06-02-2021   92 days 01:19:56.888005\n",
       "395  814  20-03-2021   50 days 01:19:56.888005\n",
       "396  815  06-03-2021   64 days 01:19:56.888005\n",
       "397  816  03-04-2021   36 days 01:19:56.888005\n",
       "398  817  17-04-2021   22 days 01:19:56.888005\n",
       "\n",
       "[399 rows x 3 columns]"
      ],
      "text/html": "<div>\n<style scoped>\n    .dataframe tbody tr th:only-of-type {\n        vertical-align: middle;\n    }\n\n    .dataframe tbody tr th {\n        vertical-align: top;\n    }\n\n    .dataframe thead th {\n        text-align: right;\n    }\n</style>\n<table border=\"1\" class=\"dataframe\">\n  <thead>\n    <tr style=\"text-align: right;\">\n      <th></th>\n      <th>id</th>\n      <th>fecha</th>\n      <th>dias_desde_primera_compra</th>\n    </tr>\n  </thead>\n  <tbody>\n    <tr>\n      <th>0</th>\n      <td>3</td>\n      <td>10-04-2021</td>\n      <td>29 days 01:19:56.888005</td>\n    </tr>\n    <tr>\n      <th>1</th>\n      <td>4</td>\n      <td>21-11-2020</td>\n      <td>169 days 01:19:56.888005</td>\n    </tr>\n    <tr>\n      <th>2</th>\n      <td>5</td>\n      <td>01-05-2021</td>\n      <td>8 days 01:19:56.888005</td>\n    </tr>\n    <tr>\n      <th>3</th>\n      <td>8</td>\n      <td>06-03-2021</td>\n      <td>64 days 01:19:56.888005</td>\n    </tr>\n    <tr>\n      <th>4</th>\n      <td>10</td>\n      <td>23-01-2021</td>\n      <td>106 days 01:19:56.888005</td>\n    </tr>\n    <tr>\n      <th>...</th>\n      <td>...</td>\n      <td>...</td>\n      <td>...</td>\n    </tr>\n    <tr>\n      <th>394</th>\n      <td>813</td>\n      <td>06-02-2021</td>\n      <td>92 days 01:19:56.888005</td>\n    </tr>\n    <tr>\n      <th>395</th>\n      <td>814</td>\n      <td>20-03-2021</td>\n      <td>50 days 01:19:56.888005</td>\n    </tr>\n    <tr>\n      <th>396</th>\n      <td>815</td>\n      <td>06-03-2021</td>\n      <td>64 days 01:19:56.888005</td>\n    </tr>\n    <tr>\n      <th>397</th>\n      <td>816</td>\n      <td>03-04-2021</td>\n      <td>36 days 01:19:56.888005</td>\n    </tr>\n    <tr>\n      <th>398</th>\n      <td>817</td>\n      <td>17-04-2021</td>\n      <td>22 days 01:19:56.888005</td>\n    </tr>\n  </tbody>\n</table>\n<p>399 rows × 3 columns</p>\n</div>"
     },
     "metadata": {},
     "execution_count": 34
    }
   ],
   "source": [
    "primera_compra_cliente"
   ]
  },
  {
   "cell_type": "code",
   "execution_count": 35,
   "metadata": {},
   "outputs": [
    {
     "output_type": "execute_result",
     "data": {
      "text/plain": [
       "0       29.0\n",
       "1      169.0\n",
       "2        8.0\n",
       "3       64.0\n",
       "4      106.0\n",
       "       ...  \n",
       "394     92.0\n",
       "395     50.0\n",
       "396     64.0\n",
       "397     36.0\n",
       "398     22.0\n",
       "Name: dias_desde_primera_compra, Length: 399, dtype: float64"
      ]
     },
     "metadata": {},
     "execution_count": 35
    }
   ],
   "source": [
    "#Liiiisto\n",
    "#Ahorar pasemos del  22 days a numero\n",
    "primera_compra_cliente['dias_desde_primera_compra'].astype('timedelta64[D]') #Se transofrma usando astype y diciendole al calendario (timedelta64) que quermos el valor en numero (D: dias en numero, S: segundos, etc.)"
   ]
  },
  {
   "cell_type": "code",
   "execution_count": 36,
   "metadata": {},
   "outputs": [],
   "source": [
    "#Se actauliza el valor de la tabla\n",
    "primera_compra_cliente['dias_desde_primera_compra'] = (primera_compra_cliente['dias_desde_primera_compra'].astype('timedelta64[D]'))\n"
   ]
  },
  {
   "cell_type": "code",
   "execution_count": 37,
   "metadata": {},
   "outputs": [
    {
     "output_type": "execute_result",
     "data": {
      "text/plain": [
       "      id       fecha  dias_desde_primera_compra\n",
       "0      3  10-04-2021                       29.0\n",
       "1      4  21-11-2020                      169.0\n",
       "2      5  01-05-2021                        8.0\n",
       "3      8  06-03-2021                       64.0\n",
       "4     10  23-01-2021                      106.0\n",
       "..   ...         ...                        ...\n",
       "394  813  06-02-2021                       92.0\n",
       "395  814  20-03-2021                       50.0\n",
       "396  815  06-03-2021                       64.0\n",
       "397  816  03-04-2021                       36.0\n",
       "398  817  17-04-2021                       22.0\n",
       "\n",
       "[399 rows x 3 columns]"
      ],
      "text/html": "<div>\n<style scoped>\n    .dataframe tbody tr th:only-of-type {\n        vertical-align: middle;\n    }\n\n    .dataframe tbody tr th {\n        vertical-align: top;\n    }\n\n    .dataframe thead th {\n        text-align: right;\n    }\n</style>\n<table border=\"1\" class=\"dataframe\">\n  <thead>\n    <tr style=\"text-align: right;\">\n      <th></th>\n      <th>id</th>\n      <th>fecha</th>\n      <th>dias_desde_primera_compra</th>\n    </tr>\n  </thead>\n  <tbody>\n    <tr>\n      <th>0</th>\n      <td>3</td>\n      <td>10-04-2021</td>\n      <td>29.0</td>\n    </tr>\n    <tr>\n      <th>1</th>\n      <td>4</td>\n      <td>21-11-2020</td>\n      <td>169.0</td>\n    </tr>\n    <tr>\n      <th>2</th>\n      <td>5</td>\n      <td>01-05-2021</td>\n      <td>8.0</td>\n    </tr>\n    <tr>\n      <th>3</th>\n      <td>8</td>\n      <td>06-03-2021</td>\n      <td>64.0</td>\n    </tr>\n    <tr>\n      <th>4</th>\n      <td>10</td>\n      <td>23-01-2021</td>\n      <td>106.0</td>\n    </tr>\n    <tr>\n      <th>...</th>\n      <td>...</td>\n      <td>...</td>\n      <td>...</td>\n    </tr>\n    <tr>\n      <th>394</th>\n      <td>813</td>\n      <td>06-02-2021</td>\n      <td>92.0</td>\n    </tr>\n    <tr>\n      <th>395</th>\n      <td>814</td>\n      <td>20-03-2021</td>\n      <td>50.0</td>\n    </tr>\n    <tr>\n      <th>396</th>\n      <td>815</td>\n      <td>06-03-2021</td>\n      <td>64.0</td>\n    </tr>\n    <tr>\n      <th>397</th>\n      <td>816</td>\n      <td>03-04-2021</td>\n      <td>36.0</td>\n    </tr>\n    <tr>\n      <th>398</th>\n      <td>817</td>\n      <td>17-04-2021</td>\n      <td>22.0</td>\n    </tr>\n  </tbody>\n</table>\n<p>399 rows × 3 columns</p>\n</div>"
     },
     "metadata": {},
     "execution_count": 37
    }
   ],
   "source": [
    "primera_compra_cliente"
   ]
  },
  {
   "source": [
    "## Primera columna LISTA!!!"
   ],
   "cell_type": "markdown",
   "metadata": {}
  },
  {
   "cell_type": "code",
   "execution_count": null,
   "metadata": {},
   "outputs": [],
   "source": []
  }
 ]
}